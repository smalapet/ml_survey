{
  "nbformat": 4,
  "nbformat_minor": 0,
  "metadata": {
    "colab": {
      "name": "00_PyTorchBasics.ipynb",
      "provenance": [],
      "collapsed_sections": []
    },
    "kernelspec": {
      "name": "python3",
      "display_name": "Python 3"
    },
    "language_info": {
      "name": "python"
    }
  },
  "cells": [
    {
      "cell_type": "code",
      "execution_count": null,
      "metadata": {
        "colab": {
          "base_uri": "https://localhost:8080/"
        },
        "id": "EuJLnSCzJJMA",
        "outputId": "8b57614a-d68d-4838-bb61-4d5e41f251a7"
      },
      "outputs": [
        {
          "output_type": "stream",
          "name": "stdout",
          "text": [
            "linear Linear(in_features=10, out_features=2, bias=True)\n",
            "\n",
            "input tensor([[-0.6031,  0.4518, -0.5165, -0.1217, -1.5608,  3.2706, -0.5435,  1.3274,\n",
            "          0.6965, -0.5175],\n",
            "        [-0.1189,  1.2913, -0.4178,  0.8832,  0.0215, -0.0646, -0.3611,  1.1056,\n",
            "         -0.9953, -1.3836],\n",
            "        [-0.6622, -1.2581, -0.4652,  0.3521,  1.0630, -0.3069,  0.5070, -0.2159,\n",
            "          0.0068,  1.3317]])\n",
            "\n",
            "output tensor([[ 0.7848,  1.1761],\n",
            "        [ 1.0977, -0.3362],\n",
            "        [-0.4511, -0.0053]], grad_fn=<AddmmBackward0>)\n",
            "\n",
            "relu_output tensor([[0.7848, 1.1761],\n",
            "        [1.0977, 0.0000],\n",
            "        [0.0000, 0.0000]], grad_fn=<ReluBackward0>)\n"
          ]
        }
      ],
      "source": [
        "import torch\n",
        "import torch.nn as nn\n",
        "\n",
        "linear = nn.Linear(10,2)\n",
        "print('linear',linear)\n",
        "\n",
        "input = torch.randn(3,10)\n",
        "print('\\ninput',input)\n",
        "\n",
        "output = linear(input)\n",
        "print('\\noutput',output)\n",
        "\n",
        "relu = nn.ReLU()\n",
        "relu_output = relu(output)\n",
        "print('\\nrelu_output',relu_output)"
      ]
    },
    {
      "cell_type": "markdown",
      "source": [
        "# Neural Net on the XOR dataset\n",
        "\n",
        "#### Reference:\n",
        "#### https://medium.com/mlearning-ai/learning-xor-with-pytorch-c1c11d67ba8e\n",
        "#### https://en.wikipedia.org/wiki/Activation_function"
      ],
      "metadata": {
        "id": "VsedLod6K_BV"
      }
    },
    {
      "cell_type": "code",
      "source": [
        "from torch.autograd import Variable\n",
        "import torch\n",
        "import torch.nn as nn\n",
        "import torch.nn.functional as F\n",
        "import torch.optim as optim\n",
        "import numpy as np\n",
        "import matplotlib.pyplot as plt\n",
        "%matplotlib inline\n",
        "torch.manual_seed(2)"
      ],
      "metadata": {
        "colab": {
          "base_uri": "https://localhost:8080/"
        },
        "id": "O0bn6fSLJiSq",
        "outputId": "dce02989-396a-497b-daf6-ebe31eb1e7e3"
      },
      "execution_count": null,
      "outputs": [
        {
          "output_type": "execute_result",
          "data": {
            "text/plain": [
              "<torch._C.Generator at 0x7f2e036ca9f0>"
            ]
          },
          "metadata": {},
          "execution_count": 3
        }
      ]
    },
    {
      "cell_type": "code",
      "source": [
        "X = torch.Tensor([[0,0],[0,1], [1,0], [1,1]])\n",
        "Y = torch.Tensor([0,1,1,0]).view(-1,1)"
      ],
      "metadata": {
        "id": "QiZjgtfPLFPG"
      },
      "execution_count": null,
      "outputs": []
    },
    {
      "cell_type": "code",
      "source": [
        "class clsXOR(nn.Module):\n",
        "    def __init__(self, input_dim = 2, output_dim=1):\n",
        "        super(clsXOR, self).__init__()\n",
        "        self.lin1 = nn.Linear(input_dim, 2)\n",
        "        self.lin2 = nn.Linear(2, output_dim)\n",
        "    \n",
        "    def forward(self, x):\n",
        "        x = self.lin1(x)\n",
        "        x = F.sigmoid(x)\n",
        "        x = self.lin2(x)\n",
        "        return x"
      ],
      "metadata": {
        "id": "lz-EVLmhLHWW"
      },
      "execution_count": null,
      "outputs": []
    },
    {
      "cell_type": "code",
      "source": [
        "# def weights_init(model):\n",
        "#     for m in model.modules():\n",
        "#         if isinstance(m, nn.Linear):\n",
        "#             # initialize the weight tensor, here we use a normal distribution\n",
        "#             m.weight.data.normal_(0, 1)\n",
        "\n",
        "# weights_init(model)"
      ],
      "metadata": {
        "id": "r77aCkivLMRK"
      },
      "execution_count": null,
      "outputs": []
    },
    {
      "cell_type": "code",
      "source": [
        "model = clsXOR()"
      ],
      "metadata": {
        "id": "xqSuudUXLXVd"
      },
      "execution_count": null,
      "outputs": []
    },
    {
      "cell_type": "code",
      "source": [
        "loss_func = nn.MSELoss()"
      ],
      "metadata": {
        "id": "IGl5qriZLZkE"
      },
      "execution_count": null,
      "outputs": []
    },
    {
      "cell_type": "code",
      "source": [
        "optimizer = optim.SGD(model.parameters(), lr=0.02, momentum=0.9)"
      ],
      "metadata": {
        "id": "jQMbxcUvLbV9"
      },
      "execution_count": null,
      "outputs": []
    },
    {
      "cell_type": "code",
      "source": [
        "epochs = 2001\n",
        "steps = X.size(0)\n",
        "for i in range(epochs):\n",
        "    for j in range(steps):\n",
        "        data_point = np.random.randint(X.size(0))\n",
        "        x_var = Variable(X[data_point], requires_grad=False)\n",
        "        y_var = Variable(Y[data_point], requires_grad=False)\n",
        "        \n",
        "        optimizer.zero_grad()\n",
        "        #y_hat = model(x_var)\n",
        "        y_hat = model.forward(x_var)\n",
        "        loss = loss_func.forward(y_hat, y_var)\n",
        "        loss.backward()\n",
        "        optimizer.step()\n",
        "        \n",
        "    if i % 500 == 0:\n",
        "        print(\"Epoch: {0}, Loss: {1}, \".format(i, loss.data.numpy()))"
      ],
      "metadata": {
        "colab": {
          "base_uri": "https://localhost:8080/"
        },
        "id": "hyegorKsLiv9",
        "outputId": "4f6866c9-c5fc-48a7-99b5-a23db3ac0c1e"
      },
      "execution_count": null,
      "outputs": [
        {
          "output_type": "stream",
          "name": "stderr",
          "text": [
            "/usr/local/lib/python3.7/dist-packages/torch/nn/functional.py:1806: UserWarning: nn.functional.sigmoid is deprecated. Use torch.sigmoid instead.\n",
            "  warnings.warn(\"nn.functional.sigmoid is deprecated. Use torch.sigmoid instead.\")\n"
          ]
        },
        {
          "output_type": "stream",
          "name": "stdout",
          "text": [
            "Epoch: 0, Loss: 0.019089970737695694, \n",
            "Epoch: 500, Loss: 0.04357881844043732, \n",
            "Epoch: 1000, Loss: 1.4210854715202004e-14, \n",
            "Epoch: 1500, Loss: 0.0, \n",
            "Epoch: 2000, Loss: 0.0, \n"
          ]
        }
      ]
    },
    {
      "cell_type": "code",
      "source": [
        "model_params = list(model.parameters())"
      ],
      "metadata": {
        "id": "zedFFT0TLlUa"
      },
      "execution_count": null,
      "outputs": []
    },
    {
      "cell_type": "code",
      "source": [
        "model_weights = model_params[0].data.numpy()\n",
        "model_bias = model_params[1].data.numpy()\n",
        "\n",
        "plt.scatter(X.numpy()[[0,-1], 0], X.numpy()[[0, -1], 1], s=50)\n",
        "plt.scatter(X.numpy()[[1,2], 0], X.numpy()[[1, 2], 1], c='red', s=50)\n",
        "\n",
        "x_1 = np.arange(-0.1, 1.1, 0.1)\n",
        "y_1 = ((x_1 * model_weights[0,0]) + model_bias[0]) / (-model_weights[0,1])\n",
        "plt.plot(x_1, y_1)\n",
        "\n",
        "x_2 = np.arange(-0.1, 1.1, 0.1)\n",
        "y_2 = ((x_2 * model_weights[1,0]) + model_bias[1]) / (-model_weights[1,1])\n",
        "\n",
        "plt.plot(x_2, y_2)\n",
        "plt.legend([\"neuron_1\", \"neuron_2\"], loc=8)\n",
        "plt.show()"
      ],
      "metadata": {
        "colab": {
          "base_uri": "https://localhost:8080/",
          "height": 265
        },
        "id": "q7Uk8J7FLxg9",
        "outputId": "9d8b4a4e-322a-44e2-8300-6055a240e1ae"
      },
      "execution_count": null,
      "outputs": [
        {
          "output_type": "display_data",
          "data": {
            "text/plain": [
              "<Figure size 432x288 with 1 Axes>"
            ],
            "image/png": "[encoded data removed]"
          },
          "metadata": {
            "needs_background": "light"
          }
        }
      ]
    },
    {
      "cell_type": "code",
      "source": [
        ""
      ],
      "metadata": {
        "id": "Nfdg-mo1Lzzy"
      },
      "execution_count": null,
      "outputs": []
    }
  ]
}
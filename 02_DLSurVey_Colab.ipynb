{
  "nbformat": 4,
  "nbformat_minor": 0,
  "metadata": {
    "colab": {
      "name": "02_DLSurVey.ipynb",
      "provenance": [],
      "collapsed_sections": []
    },
    "kernelspec": {
      "name": "python3",
      "display_name": "Python 3"
    },
    "language_info": {
      "name": "python"
    },
    "accelerator": "GPU",
    "widgets": {
      "application/vnd.jupyter.widget-state+json": {
        "86cbdc815580486ead79775610ff62b6": {
          "model_module": "@jupyter-widgets/controls",
          "model_name": "HBoxModel",
          "model_module_version": "1.5.0",
          "state": {
            "_dom_classes": [],
            "_model_module": "@jupyter-widgets/controls",
            "_model_module_version": "1.5.0",
            "_model_name": "HBoxModel",
            "_view_count": null,
            "_view_module": "@jupyter-widgets/controls",
            "_view_module_version": "1.5.0",
            "_view_name": "HBoxView",
            "box_style": "",
            "children": [
              "IPY_MODEL_c50bb1f90d5a40d4b547e5907d513f56",
              "IPY_MODEL_48e5d3afba924064bffca2d88f05a6c7",
              "IPY_MODEL_5bacc634365d44a59d704fdf81dda095"
            ],
            "layout": "IPY_MODEL_d1ed8a848f2646dca88554aa8cdc5d51"
          }
        },
        "c50bb1f90d5a40d4b547e5907d513f56": {
          "model_module": "@jupyter-widgets/controls",
          "model_name": "HTMLModel",
          "model_module_version": "1.5.0",
          "state": {
            "_dom_classes": [],
            "_model_module": "@jupyter-widgets/controls",
            "_model_module_version": "1.5.0",
            "_model_name": "HTMLModel",
            "_view_count": null,
            "_view_module": "@jupyter-widgets/controls",
            "_view_module_version": "1.5.0",
            "_view_name": "HTMLView",
            "description": "",
            "description_tooltip": null,
            "layout": "IPY_MODEL_f2b8a30efb2740adbd6dfaa89f26ca01",
            "placeholder": "​",
            "style": "IPY_MODEL_32724a7a8e954571a8515e2a6b20ccab",
            "value": "Error: 0.00234990153629258: 100%"
          }
        },
        "48e5d3afba924064bffca2d88f05a6c7": {
          "model_module": "@jupyter-widgets/controls",
          "model_name": "FloatProgressModel",
          "model_module_version": "1.5.0",
          "state": {
            "_dom_classes": [],
            "_model_module": "@jupyter-widgets/controls",
            "_model_module_version": "1.5.0",
            "_model_name": "FloatProgressModel",
            "_view_count": null,
            "_view_module": "@jupyter-widgets/controls",
            "_view_module_version": "1.5.0",
            "_view_name": "ProgressView",
            "bar_style": "success",
            "description": "",
            "description_tooltip": null,
            "layout": "IPY_MODEL_998a2bb20a2c453eba4de458e241c924",
            "max": 100000,
            "min": 0,
            "orientation": "horizontal",
            "style": "IPY_MODEL_96da23071a0b4741868c4c4a4113206d",
            "value": 100000
          }
        },
        "5bacc634365d44a59d704fdf81dda095": {
          "model_module": "@jupyter-widgets/controls",
          "model_name": "HTMLModel",
          "model_module_version": "1.5.0",
          "state": {
            "_dom_classes": [],
            "_model_module": "@jupyter-widgets/controls",
            "_model_module_version": "1.5.0",
            "_model_name": "HTMLModel",
            "_view_count": null,
            "_view_module": "@jupyter-widgets/controls",
            "_view_module_version": "1.5.0",
            "_view_name": "HTMLView",
            "description": "",
            "description_tooltip": null,
            "layout": "IPY_MODEL_836905cb81e24d248b60786029a0a1f6",
            "placeholder": "​",
            "style": "IPY_MODEL_9343632fa2f843be89ef2b978b70947e",
            "value": " 100000/100000 [00:09&lt;00:00, 19215.79it/s]"
          }
        },
        "d1ed8a848f2646dca88554aa8cdc5d51": {
          "model_module": "@jupyter-widgets/base",
          "model_name": "LayoutModel",
          "model_module_version": "1.2.0",
          "state": {
            "_model_module": "@jupyter-widgets/base",
            "_model_module_version": "1.2.0",
            "_model_name": "LayoutModel",
            "_view_count": null,
            "_view_module": "@jupyter-widgets/base",
            "_view_module_version": "1.2.0",
            "_view_name": "LayoutView",
            "align_content": null,
            "align_items": null,
            "align_self": null,
            "border": null,
            "bottom": null,
            "display": null,
            "flex": null,
            "flex_flow": null,
            "grid_area": null,
            "grid_auto_columns": null,
            "grid_auto_flow": null,
            "grid_auto_rows": null,
            "grid_column": null,
            "grid_gap": null,
            "grid_row": null,
            "grid_template_areas": null,
            "grid_template_columns": null,
            "grid_template_rows": null,
            "height": null,
            "justify_content": null,
            "justify_items": null,
            "left": null,
            "margin": null,
            "max_height": null,
            "max_width": null,
            "min_height": null,
            "min_width": null,
            "object_fit": null,
            "object_position": null,
            "order": null,
            "overflow": null,
            "overflow_x": null,
            "overflow_y": null,
            "padding": null,
            "right": null,
            "top": null,
            "visibility": null,
            "width": null
          }
        },
        "f2b8a30efb2740adbd6dfaa89f26ca01": {
          "model_module": "@jupyter-widgets/base",
          "model_name": "LayoutModel",
          "model_module_version": "1.2.0",
          "state": {
            "_model_module": "@jupyter-widgets/base",
            "_model_module_version": "1.2.0",
            "_model_name": "LayoutModel",
            "_view_count": null,
            "_view_module": "@jupyter-widgets/base",
            "_view_module_version": "1.2.0",
            "_view_name": "LayoutView",
            "align_content": null,
            "align_items": null,
            "align_self": null,
            "border": null,
            "bottom": null,
            "display": null,
            "flex": null,
            "flex_flow": null,
            "grid_area": null,
            "grid_auto_columns": null,
            "grid_auto_flow": null,
            "grid_auto_rows": null,
            "grid_column": null,
            "grid_gap": null,
            "grid_row": null,
            "grid_template_areas": null,
            "grid_template_columns": null,
            "grid_template_rows": null,
            "height": null,
            "justify_content": null,
            "justify_items": null,
            "left": null,
            "margin": null,
            "max_height": null,
            "max_width": null,
            "min_height": null,
            "min_width": null,
            "object_fit": null,
            "object_position": null,
            "order": null,
            "overflow": null,
            "overflow_x": null,
            "overflow_y": null,
            "padding": null,
            "right": null,
            "top": null,
            "visibility": null,
            "width": null
          }
        },
        "32724a7a8e954571a8515e2a6b20ccab": {
          "model_module": "@jupyter-widgets/controls",
          "model_name": "DescriptionStyleModel",
          "model_module_version": "1.5.0",
          "state": {
            "_model_module": "@jupyter-widgets/controls",
            "_model_module_version": "1.5.0",
            "_model_name": "DescriptionStyleModel",
            "_view_count": null,
            "_view_module": "@jupyter-widgets/base",
            "_view_module_version": "1.2.0",
            "_view_name": "StyleView",
            "description_width": ""
          }
        },
        "998a2bb20a2c453eba4de458e241c924": {
          "model_module": "@jupyter-widgets/base",
          "model_name": "LayoutModel",
          "model_module_version": "1.2.0",
          "state": {
            "_model_module": "@jupyter-widgets/base",
            "_model_module_version": "1.2.0",
            "_model_name": "LayoutModel",
            "_view_count": null,
            "_view_module": "@jupyter-widgets/base",
            "_view_module_version": "1.2.0",
            "_view_name": "LayoutView",
            "align_content": null,
            "align_items": null,
            "align_self": null,
            "border": null,
            "bottom": null,
            "display": null,
            "flex": null,
            "flex_flow": null,
            "grid_area": null,
            "grid_auto_columns": null,
            "grid_auto_flow": null,
            "grid_auto_rows": null,
            "grid_column": null,
            "grid_gap": null,
            "grid_row": null,
            "grid_template_areas": null,
            "grid_template_columns": null,
            "grid_template_rows": null,
            "height": null,
            "justify_content": null,
            "justify_items": null,
            "left": null,
            "margin": null,
            "max_height": null,
            "max_width": null,
            "min_height": null,
            "min_width": null,
            "object_fit": null,
            "object_position": null,
            "order": null,
            "overflow": null,
            "overflow_x": null,
            "overflow_y": null,
            "padding": null,
            "right": null,
            "top": null,
            "visibility": null,
            "width": null
          }
        },
        "96da23071a0b4741868c4c4a4113206d": {
          "model_module": "@jupyter-widgets/controls",
          "model_name": "ProgressStyleModel",
          "model_module_version": "1.5.0",
          "state": {
            "_model_module": "@jupyter-widgets/controls",
            "_model_module_version": "1.5.0",
            "_model_name": "ProgressStyleModel",
            "_view_count": null,
            "_view_module": "@jupyter-widgets/base",
            "_view_module_version": "1.2.0",
            "_view_name": "StyleView",
            "bar_color": null,
            "description_width": ""
          }
        },
        "836905cb81e24d248b60786029a0a1f6": {
          "model_module": "@jupyter-widgets/base",
          "model_name": "LayoutModel",
          "model_module_version": "1.2.0",
          "state": {
            "_model_module": "@jupyter-widgets/base",
            "_model_module_version": "1.2.0",
            "_model_name": "LayoutModel",
            "_view_count": null,
            "_view_module": "@jupyter-widgets/base",
            "_view_module_version": "1.2.0",
            "_view_name": "LayoutView",
            "align_content": null,
            "align_items": null,
            "align_self": null,
            "border": null,
            "bottom": null,
            "display": null,
            "flex": null,
            "flex_flow": null,
            "grid_area": null,
            "grid_auto_columns": null,
            "grid_auto_flow": null,
            "grid_auto_rows": null,
            "grid_column": null,
            "grid_gap": null,
            "grid_row": null,
            "grid_template_areas": null,
            "grid_template_columns": null,
            "grid_template_rows": null,
            "height": null,
            "justify_content": null,
            "justify_items": null,
            "left": null,
            "margin": null,
            "max_height": null,
            "max_width": null,
            "min_height": null,
            "min_width": null,
            "object_fit": null,
            "object_position": null,
            "order": null,
            "overflow": null,
            "overflow_x": null,
            "overflow_y": null,
            "padding": null,
            "right": null,
            "top": null,
            "visibility": null,
            "width": null
          }
        },
        "9343632fa2f843be89ef2b978b70947e": {
          "model_module": "@jupyter-widgets/controls",
          "model_name": "DescriptionStyleModel",
          "model_module_version": "1.5.0",
          "state": {
            "_model_module": "@jupyter-widgets/controls",
            "_model_module_version": "1.5.0",
            "_model_name": "DescriptionStyleModel",
            "_view_count": null,
            "_view_module": "@jupyter-widgets/base",
            "_view_module_version": "1.2.0",
            "_view_name": "StyleView",
            "description_width": ""
          }
        },
        "e0cb9b63a1c0404db5688c94783dd5e5": {
          "model_module": "@jupyter-widgets/controls",
          "model_name": "HBoxModel",
          "model_module_version": "1.5.0",
          "state": {
            "_dom_classes": [],
            "_model_module": "@jupyter-widgets/controls",
            "_model_module_version": "1.5.0",
            "_model_name": "HBoxModel",
            "_view_count": null,
            "_view_module": "@jupyter-widgets/controls",
            "_view_module_version": "1.5.0",
            "_view_name": "HBoxView",
            "box_style": "",
            "children": [
              "IPY_MODEL_ebc6b024083d425ebf0ffa6365faec8a",
              "IPY_MODEL_831c882d96184be29774408dadf91783",
              "IPY_MODEL_6ba315fa18684170b729d5459d454827"
            ],
            "layout": "IPY_MODEL_5d02f1a448fb4e54a37bb529d8a95f6e"
          }
        },
        "ebc6b024083d425ebf0ffa6365faec8a": {
          "model_module": "@jupyter-widgets/controls",
          "model_name": "HTMLModel",
          "model_module_version": "1.5.0",
          "state": {
            "_dom_classes": [],
            "_model_module": "@jupyter-widgets/controls",
            "_model_module_version": "1.5.0",
            "_model_name": "HTMLModel",
            "_view_count": null,
            "_view_module": "@jupyter-widgets/controls",
            "_view_module_version": "1.5.0",
            "_view_name": "HTMLView",
            "description": "",
            "description_tooltip": null,
            "layout": "IPY_MODEL_d8241165bcd74e32b5a050cbaf6686ce",
            "placeholder": "​",
            "style": "IPY_MODEL_8a58314ff35d434fb68af181950b54bf",
            "value": "prediction: [[0.99999863]\n [0.99487128]\n [0.01019815]\n [0.98199531]\n [0.0142439 ]]: 100%"
          }
        },
        "831c882d96184be29774408dadf91783": {
          "model_module": "@jupyter-widgets/controls",
          "model_name": "FloatProgressModel",
          "model_module_version": "1.5.0",
          "state": {
            "_dom_classes": [],
            "_model_module": "@jupyter-widgets/controls",
            "_model_module_version": "1.5.0",
            "_model_name": "FloatProgressModel",
            "_view_count": null,
            "_view_module": "@jupyter-widgets/controls",
            "_view_module_version": "1.5.0",
            "_view_name": "ProgressView",
            "bar_style": "success",
            "description": "",
            "description_tooltip": null,
            "layout": "IPY_MODEL_4fd53b35a55a42a482f7375c03e365d8",
            "max": 10000,
            "min": 0,
            "orientation": "horizontal",
            "style": "IPY_MODEL_e16c4358834a42b6aac89412f9403fb8",
            "value": 10000
          }
        },
        "6ba315fa18684170b729d5459d454827": {
          "model_module": "@jupyter-widgets/controls",
          "model_name": "HTMLModel",
          "model_module_version": "1.5.0",
          "state": {
            "_dom_classes": [],
            "_model_module": "@jupyter-widgets/controls",
            "_model_module_version": "1.5.0",
            "_model_name": "HTMLModel",
            "_view_count": null,
            "_view_module": "@jupyter-widgets/controls",
            "_view_module_version": "1.5.0",
            "_view_name": "HTMLView",
            "description": "",
            "description_tooltip": null,
            "layout": "IPY_MODEL_0605a54730c84638b680876fe7f97c3a",
            "placeholder": "​",
            "style": "IPY_MODEL_73bc60fcffd248908184951846950e50",
            "value": " 10000/10000 [00:27&lt;00:00, 371.39it/s]"
          }
        },
        "5d02f1a448fb4e54a37bb529d8a95f6e": {
          "model_module": "@jupyter-widgets/base",
          "model_name": "LayoutModel",
          "model_module_version": "1.2.0",
          "state": {
            "_model_module": "@jupyter-widgets/base",
            "_model_module_version": "1.2.0",
            "_model_name": "LayoutModel",
            "_view_count": null,
            "_view_module": "@jupyter-widgets/base",
            "_view_module_version": "1.2.0",
            "_view_name": "LayoutView",
            "align_content": null,
            "align_items": null,
            "align_self": null,
            "border": null,
            "bottom": null,
            "display": null,
            "flex": null,
            "flex_flow": null,
            "grid_area": null,
            "grid_auto_columns": null,
            "grid_auto_flow": null,
            "grid_auto_rows": null,
            "grid_column": null,
            "grid_gap": null,
            "grid_row": null,
            "grid_template_areas": null,
            "grid_template_columns": null,
            "grid_template_rows": null,
            "height": null,
            "justify_content": null,
            "justify_items": null,
            "left": null,
            "margin": null,
            "max_height": null,
            "max_width": null,
            "min_height": null,
            "min_width": null,
            "object_fit": null,
            "object_position": null,
            "order": null,
            "overflow": null,
            "overflow_x": null,
            "overflow_y": null,
            "padding": null,
            "right": null,
            "top": null,
            "visibility": null,
            "width": null
          }
        },
        "d8241165bcd74e32b5a050cbaf6686ce": {
          "model_module": "@jupyter-widgets/base",
          "model_name": "LayoutModel",
          "model_module_version": "1.2.0",
          "state": {
            "_model_module": "@jupyter-widgets/base",
            "_model_module_version": "1.2.0",
            "_model_name": "LayoutModel",
            "_view_count": null,
            "_view_module": "@jupyter-widgets/base",
            "_view_module_version": "1.2.0",
            "_view_name": "LayoutView",
            "align_content": null,
            "align_items": null,
            "align_self": null,
            "border": null,
            "bottom": null,
            "display": null,
            "flex": null,
            "flex_flow": null,
            "grid_area": null,
            "grid_auto_columns": null,
            "grid_auto_flow": null,
            "grid_auto_rows": null,
            "grid_column": null,
            "grid_gap": null,
            "grid_row": null,
            "grid_template_areas": null,
            "grid_template_columns": null,
            "grid_template_rows": null,
            "height": null,
            "justify_content": null,
            "justify_items": null,
            "left": null,
            "margin": null,
            "max_height": null,
            "max_width": null,
            "min_height": null,
            "min_width": null,
            "object_fit": null,
            "object_position": null,
            "order": null,
            "overflow": null,
            "overflow_x": null,
            "overflow_y": null,
            "padding": null,
            "right": null,
            "top": null,
            "visibility": null,
            "width": null
          }
        },
        "8a58314ff35d434fb68af181950b54bf": {
          "model_module": "@jupyter-widgets/controls",
          "model_name": "DescriptionStyleModel",
          "model_module_version": "1.5.0",
          "state": {
            "_model_module": "@jupyter-widgets/controls",
            "_model_module_version": "1.5.0",
            "_model_name": "DescriptionStyleModel",
            "_view_count": null,
            "_view_module": "@jupyter-widgets/base",
            "_view_module_version": "1.2.0",
            "_view_name": "StyleView",
            "description_width": ""
          }
        },
        "4fd53b35a55a42a482f7375c03e365d8": {
          "model_module": "@jupyter-widgets/base",
          "model_name": "LayoutModel",
          "model_module_version": "1.2.0",
          "state": {
            "_model_module": "@jupyter-widgets/base",
            "_model_module_version": "1.2.0",
            "_model_name": "LayoutModel",
            "_view_count": null,
            "_view_module": "@jupyter-widgets/base",
            "_view_module_version": "1.2.0",
            "_view_name": "LayoutView",
            "align_content": null,
            "align_items": null,
            "align_self": null,
            "border": null,
            "bottom": null,
            "display": null,
            "flex": null,
            "flex_flow": null,
            "grid_area": null,
            "grid_auto_columns": null,
            "grid_auto_flow": null,
            "grid_auto_rows": null,
            "grid_column": null,
            "grid_gap": null,
            "grid_row": null,
            "grid_template_areas": null,
            "grid_template_columns": null,
            "grid_template_rows": null,
            "height": null,
            "justify_content": null,
            "justify_items": null,
            "left": null,
            "margin": null,
            "max_height": null,
            "max_width": null,
            "min_height": null,
            "min_width": null,
            "object_fit": null,
            "object_position": null,
            "order": null,
            "overflow": null,
            "overflow_x": null,
            "overflow_y": null,
            "padding": null,
            "right": null,
            "top": null,
            "visibility": null,
            "width": null
          }
        },
        "e16c4358834a42b6aac89412f9403fb8": {
          "model_module": "@jupyter-widgets/controls",
          "model_name": "ProgressStyleModel",
          "model_module_version": "1.5.0",
          "state": {
            "_model_module": "@jupyter-widgets/controls",
            "_model_module_version": "1.5.0",
            "_model_name": "ProgressStyleModel",
            "_view_count": null,
            "_view_module": "@jupyter-widgets/base",
            "_view_module_version": "1.2.0",
            "_view_name": "StyleView",
            "bar_color": null,
            "description_width": ""
          }
        },
        "0605a54730c84638b680876fe7f97c3a": {
          "model_module": "@jupyter-widgets/base",
          "model_name": "LayoutModel",
          "model_module_version": "1.2.0",
          "state": {
            "_model_module": "@jupyter-widgets/base",
            "_model_module_version": "1.2.0",
            "_model_name": "LayoutModel",
            "_view_count": null,
            "_view_module": "@jupyter-widgets/base",
            "_view_module_version": "1.2.0",
            "_view_name": "LayoutView",
            "align_content": null,
            "align_items": null,
            "align_self": null,
            "border": null,
            "bottom": null,
            "display": null,
            "flex": null,
            "flex_flow": null,
            "grid_area": null,
            "grid_auto_columns": null,
            "grid_auto_flow": null,
            "grid_auto_rows": null,
            "grid_column": null,
            "grid_gap": null,
            "grid_row": null,
            "grid_template_areas": null,
            "grid_template_columns": null,
            "grid_template_rows": null,
            "height": null,
            "justify_content": null,
            "justify_items": null,
            "left": null,
            "margin": null,
            "max_height": null,
            "max_width": null,
            "min_height": null,
            "min_width": null,
            "object_fit": null,
            "object_position": null,
            "order": null,
            "overflow": null,
            "overflow_x": null,
            "overflow_y": null,
            "padding": null,
            "right": null,
            "top": null,
            "visibility": null,
            "width": null
          }
        },
        "73bc60fcffd248908184951846950e50": {
          "model_module": "@jupyter-widgets/controls",
          "model_name": "DescriptionStyleModel",
          "model_module_version": "1.5.0",
          "state": {
            "_model_module": "@jupyter-widgets/controls",
            "_model_module_version": "1.5.0",
            "_model_name": "DescriptionStyleModel",
            "_view_count": null,
            "_view_module": "@jupyter-widgets/base",
            "_view_module_version": "1.2.0",
            "_view_name": "StyleView",
            "description_width": ""
          }
        },
        "0d0232e287024f038d6a17a2ce83e4b1": {
          "model_module": "@jupyter-widgets/controls",
          "model_name": "HBoxModel",
          "model_module_version": "1.5.0",
          "state": {
            "_dom_classes": [],
            "_model_module": "@jupyter-widgets/controls",
            "_model_module_version": "1.5.0",
            "_model_name": "HBoxModel",
            "_view_count": null,
            "_view_module": "@jupyter-widgets/controls",
            "_view_module_version": "1.5.0",
            "_view_name": "HBoxView",
            "box_style": "",
            "children": [
              "IPY_MODEL_f061d2ef55564ad89c515071a55d8cbf",
              "IPY_MODEL_181d0e76ccd94a0bb51707e6696ddf0e",
              "IPY_MODEL_4597642a5f14432b9482c31164b2e3c8"
            ],
            "layout": "IPY_MODEL_0f08c436ea1a4e0080ebe1c67102be7a"
          }
        },
        "f061d2ef55564ad89c515071a55d8cbf": {
          "model_module": "@jupyter-widgets/controls",
          "model_name": "HTMLModel",
          "model_module_version": "1.5.0",
          "state": {
            "_dom_classes": [],
            "_model_module": "@jupyter-widgets/controls",
            "_model_module_version": "1.5.0",
            "_model_name": "HTMLModel",
            "_view_count": null,
            "_view_module": "@jupyter-widgets/controls",
            "_view_module_version": "1.5.0",
            "_view_name": "HTMLView",
            "description": "",
            "description_tooltip": null,
            "layout": "IPY_MODEL_250e8681588f4ba0a45725d631e96cc3",
            "placeholder": "​",
            "style": "IPY_MODEL_46774bc758aa4b67ae3bc74e6e9b2f9c",
            "value": ""
          }
        },
        "181d0e76ccd94a0bb51707e6696ddf0e": {
          "model_module": "@jupyter-widgets/controls",
          "model_name": "FloatProgressModel",
          "model_module_version": "1.5.0",
          "state": {
            "_dom_classes": [],
            "_model_module": "@jupyter-widgets/controls",
            "_model_module_version": "1.5.0",
            "_model_name": "FloatProgressModel",
            "_view_count": null,
            "_view_module": "@jupyter-widgets/controls",
            "_view_module_version": "1.5.0",
            "_view_name": "ProgressView",
            "bar_style": "success",
            "description": "",
            "description_tooltip": null,
            "layout": "IPY_MODEL_6c4ee226859b4b27a4b4b787e57c088d",
            "max": 170498071,
            "min": 0,
            "orientation": "horizontal",
            "style": "IPY_MODEL_c81e000ab06a4705b5c1922025924056",
            "value": 170498071
          }
        },
        "4597642a5f14432b9482c31164b2e3c8": {
          "model_module": "@jupyter-widgets/controls",
          "model_name": "HTMLModel",
          "model_module_version": "1.5.0",
          "state": {
            "_dom_classes": [],
            "_model_module": "@jupyter-widgets/controls",
            "_model_module_version": "1.5.0",
            "_model_name": "HTMLModel",
            "_view_count": null,
            "_view_module": "@jupyter-widgets/controls",
            "_view_module_version": "1.5.0",
            "_view_name": "HTMLView",
            "description": "",
            "description_tooltip": null,
            "layout": "IPY_MODEL_e75f9ec261ab4d7daaa4fc2e454c5ba7",
            "placeholder": "​",
            "style": "IPY_MODEL_d5e469edcd464a5db3cd9ed3d4791165",
            "value": " 170499072/? [00:03&lt;00:00, 61780460.35it/s]"
          }
        },
        "0f08c436ea1a4e0080ebe1c67102be7a": {
          "model_module": "@jupyter-widgets/base",
          "model_name": "LayoutModel",
          "model_module_version": "1.2.0",
          "state": {
            "_model_module": "@jupyter-widgets/base",
            "_model_module_version": "1.2.0",
            "_model_name": "LayoutModel",
            "_view_count": null,
            "_view_module": "@jupyter-widgets/base",
            "_view_module_version": "1.2.0",
            "_view_name": "LayoutView",
            "align_content": null,
            "align_items": null,
            "align_self": null,
            "border": null,
            "bottom": null,
            "display": null,
            "flex": null,
            "flex_flow": null,
            "grid_area": null,
            "grid_auto_columns": null,
            "grid_auto_flow": null,
            "grid_auto_rows": null,
            "grid_column": null,
            "grid_gap": null,
            "grid_row": null,
            "grid_template_areas": null,
            "grid_template_columns": null,
            "grid_template_rows": null,
            "height": null,
            "justify_content": null,
            "justify_items": null,
            "left": null,
            "margin": null,
            "max_height": null,
            "max_width": null,
            "min_height": null,
            "min_width": null,
            "object_fit": null,
            "object_position": null,
            "order": null,
            "overflow": null,
            "overflow_x": null,
            "overflow_y": null,
            "padding": null,
            "right": null,
            "top": null,
            "visibility": null,
            "width": null
          }
        },
        "250e8681588f4ba0a45725d631e96cc3": {
          "model_module": "@jupyter-widgets/base",
          "model_name": "LayoutModel",
          "model_module_version": "1.2.0",
          "state": {
            "_model_module": "@jupyter-widgets/base",
            "_model_module_version": "1.2.0",
            "_model_name": "LayoutModel",
            "_view_count": null,
            "_view_module": "@jupyter-widgets/base",
            "_view_module_version": "1.2.0",
            "_view_name": "LayoutView",
            "align_content": null,
            "align_items": null,
            "align_self": null,
            "border": null,
            "bottom": null,
            "display": null,
            "flex": null,
            "flex_flow": null,
            "grid_area": null,
            "grid_auto_columns": null,
            "grid_auto_flow": null,
            "grid_auto_rows": null,
            "grid_column": null,
            "grid_gap": null,
            "grid_row": null,
            "grid_template_areas": null,
            "grid_template_columns": null,
            "grid_template_rows": null,
            "height": null,
            "justify_content": null,
            "justify_items": null,
            "left": null,
            "margin": null,
            "max_height": null,
            "max_width": null,
            "min_height": null,
            "min_width": null,
            "object_fit": null,
            "object_position": null,
            "order": null,
            "overflow": null,
            "overflow_x": null,
            "overflow_y": null,
            "padding": null,
            "right": null,
            "top": null,
            "visibility": null,
            "width": null
          }
        },
        "46774bc758aa4b67ae3bc74e6e9b2f9c": {
          "model_module": "@jupyter-widgets/controls",
          "model_name": "DescriptionStyleModel",
          "model_module_version": "1.5.0",
          "state": {
            "_model_module": "@jupyter-widgets/controls",
            "_model_module_version": "1.5.0",
            "_model_name": "DescriptionStyleModel",
            "_view_count": null,
            "_view_module": "@jupyter-widgets/base",
            "_view_module_version": "1.2.0",
            "_view_name": "StyleView",
            "description_width": ""
          }
        },
        "6c4ee226859b4b27a4b4b787e57c088d": {
          "model_module": "@jupyter-widgets/base",
          "model_name": "LayoutModel",
          "model_module_version": "1.2.0",
          "state": {
            "_model_module": "@jupyter-widgets/base",
            "_model_module_version": "1.2.0",
            "_model_name": "LayoutModel",
            "_view_count": null,
            "_view_module": "@jupyter-widgets/base",
            "_view_module_version": "1.2.0",
            "_view_name": "LayoutView",
            "align_content": null,
            "align_items": null,
            "align_self": null,
            "border": null,
            "bottom": null,
            "display": null,
            "flex": null,
            "flex_flow": null,
            "grid_area": null,
            "grid_auto_columns": null,
            "grid_auto_flow": null,
            "grid_auto_rows": null,
            "grid_column": null,
            "grid_gap": null,
            "grid_row": null,
            "grid_template_areas": null,
            "grid_template_columns": null,
            "grid_template_rows": null,
            "height": null,
            "justify_content": null,
            "justify_items": null,
            "left": null,
            "margin": null,
            "max_height": null,
            "max_width": null,
            "min_height": null,
            "min_width": null,
            "object_fit": null,
            "object_position": null,
            "order": null,
            "overflow": null,
            "overflow_x": null,
            "overflow_y": null,
            "padding": null,
            "right": null,
            "top": null,
            "visibility": null,
            "width": null
          }
        },
        "c81e000ab06a4705b5c1922025924056": {
          "model_module": "@jupyter-widgets/controls",
          "model_name": "ProgressStyleModel",
          "model_module_version": "1.5.0",
          "state": {
            "_model_module": "@jupyter-widgets/controls",
            "_model_module_version": "1.5.0",
            "_model_name": "ProgressStyleModel",
            "_view_count": null,
            "_view_module": "@jupyter-widgets/base",
            "_view_module_version": "1.2.0",
            "_view_name": "StyleView",
            "bar_color": null,
            "description_width": ""
          }
        },
        "e75f9ec261ab4d7daaa4fc2e454c5ba7": {
          "model_module": "@jupyter-widgets/base",
          "model_name": "LayoutModel",
          "model_module_version": "1.2.0",
          "state": {
            "_model_module": "@jupyter-widgets/base",
            "_model_module_version": "1.2.0",
            "_model_name": "LayoutModel",
            "_view_count": null,
            "_view_module": "@jupyter-widgets/base",
            "_view_module_version": "1.2.0",
            "_view_name": "LayoutView",
            "align_content": null,
            "align_items": null,
            "align_self": null,
            "border": null,
            "bottom": null,
            "display": null,
            "flex": null,
            "flex_flow": null,
            "grid_area": null,
            "grid_auto_columns": null,
            "grid_auto_flow": null,
            "grid_auto_rows": null,
            "grid_column": null,
            "grid_gap": null,
            "grid_row": null,
            "grid_template_areas": null,
            "grid_template_columns": null,
            "grid_template_rows": null,
            "height": null,
            "justify_content": null,
            "justify_items": null,
            "left": null,
            "margin": null,
            "max_height": null,
            "max_width": null,
            "min_height": null,
            "min_width": null,
            "object_fit": null,
            "object_position": null,
            "order": null,
            "overflow": null,
            "overflow_x": null,
            "overflow_y": null,
            "padding": null,
            "right": null,
            "top": null,
            "visibility": null,
            "width": null
          }
        },
        "d5e469edcd464a5db3cd9ed3d4791165": {
          "model_module": "@jupyter-widgets/controls",
          "model_name": "DescriptionStyleModel",
          "model_module_version": "1.5.0",
          "state": {
            "_model_module": "@jupyter-widgets/controls",
            "_model_module_version": "1.5.0",
            "_model_name": "DescriptionStyleModel",
            "_view_count": null,
            "_view_module": "@jupyter-widgets/base",
            "_view_module_version": "1.2.0",
            "_view_name": "StyleView",
            "description_width": ""
          }
        },
        "622b6d2223994d8fb9aa05c355c8985e": {
          "model_module": "@jupyter-widgets/controls",
          "model_name": "HBoxModel",
          "model_module_version": "1.5.0",
          "state": {
            "_dom_classes": [],
            "_model_module": "@jupyter-widgets/controls",
            "_model_module_version": "1.5.0",
            "_model_name": "HBoxModel",
            "_view_count": null,
            "_view_module": "@jupyter-widgets/controls",
            "_view_module_version": "1.5.0",
            "_view_name": "HBoxView",
            "box_style": "",
            "children": [
              "IPY_MODEL_138216f3ffed4dd7a079e7959f9955cc",
              "IPY_MODEL_ad3153b90ac1400b9aa8d168c13f867e",
              "IPY_MODEL_b6f6f7994d2b4c238a0686176b46576c"
            ],
            "layout": "IPY_MODEL_2d7b02b0845448938fb11ee366b1ae08"
          }
        },
        "138216f3ffed4dd7a079e7959f9955cc": {
          "model_module": "@jupyter-widgets/controls",
          "model_name": "HTMLModel",
          "model_module_version": "1.5.0",
          "state": {
            "_dom_classes": [],
            "_model_module": "@jupyter-widgets/controls",
            "_model_module_version": "1.5.0",
            "_model_name": "HTMLModel",
            "_view_count": null,
            "_view_module": "@jupyter-widgets/controls",
            "_view_module_version": "1.5.0",
            "_view_name": "HTMLView",
            "description": "",
            "description_tooltip": null,
            "layout": "IPY_MODEL_4006565c1138447db2aaf112a61c74e1",
            "placeholder": "​",
            "style": "IPY_MODEL_5a144628d3cf401db129a5311eb5db5b",
            "value": "100%"
          }
        },
        "ad3153b90ac1400b9aa8d168c13f867e": {
          "model_module": "@jupyter-widgets/controls",
          "model_name": "FloatProgressModel",
          "model_module_version": "1.5.0",
          "state": {
            "_dom_classes": [],
            "_model_module": "@jupyter-widgets/controls",
            "_model_module_version": "1.5.0",
            "_model_name": "FloatProgressModel",
            "_view_count": null,
            "_view_module": "@jupyter-widgets/controls",
            "_view_module_version": "1.5.0",
            "_view_name": "ProgressView",
            "bar_style": "success",
            "description": "",
            "description_tooltip": null,
            "layout": "IPY_MODEL_308709d871864b189d1df487630c5330",
            "max": 46830571,
            "min": 0,
            "orientation": "horizontal",
            "style": "IPY_MODEL_4846763ca4c8494e998750b8d80c2920",
            "value": 46830571
          }
        },
        "b6f6f7994d2b4c238a0686176b46576c": {
          "model_module": "@jupyter-widgets/controls",
          "model_name": "HTMLModel",
          "model_module_version": "1.5.0",
          "state": {
            "_dom_classes": [],
            "_model_module": "@jupyter-widgets/controls",
            "_model_module_version": "1.5.0",
            "_model_name": "HTMLModel",
            "_view_count": null,
            "_view_module": "@jupyter-widgets/controls",
            "_view_module_version": "1.5.0",
            "_view_name": "HTMLView",
            "description": "",
            "description_tooltip": null,
            "layout": "IPY_MODEL_5b11fc4a9b3a4dcf9bf819eb5558b8fa",
            "placeholder": "​",
            "style": "IPY_MODEL_5488cee20bbc4075ae81ac79ba132882",
            "value": " 44.7M/44.7M [00:00&lt;00:00, 75.7MB/s]"
          }
        },
        "2d7b02b0845448938fb11ee366b1ae08": {
          "model_module": "@jupyter-widgets/base",
          "model_name": "LayoutModel",
          "model_module_version": "1.2.0",
          "state": {
            "_model_module": "@jupyter-widgets/base",
            "_model_module_version": "1.2.0",
            "_model_name": "LayoutModel",
            "_view_count": null,
            "_view_module": "@jupyter-widgets/base",
            "_view_module_version": "1.2.0",
            "_view_name": "LayoutView",
            "align_content": null,
            "align_items": null,
            "align_self": null,
            "border": null,
            "bottom": null,
            "display": null,
            "flex": null,
            "flex_flow": null,
            "grid_area": null,
            "grid_auto_columns": null,
            "grid_auto_flow": null,
            "grid_auto_rows": null,
            "grid_column": null,
            "grid_gap": null,
            "grid_row": null,
            "grid_template_areas": null,
            "grid_template_columns": null,
            "grid_template_rows": null,
            "height": null,
            "justify_content": null,
            "justify_items": null,
            "left": null,
            "margin": null,
            "max_height": null,
            "max_width": null,
            "min_height": null,
            "min_width": null,
            "object_fit": null,
            "object_position": null,
            "order": null,
            "overflow": null,
            "overflow_x": null,
            "overflow_y": null,
            "padding": null,
            "right": null,
            "top": null,
            "visibility": null,
            "width": null
          }
        },
        "4006565c1138447db2aaf112a61c74e1": {
          "model_module": "@jupyter-widgets/base",
          "model_name": "LayoutModel",
          "model_module_version": "1.2.0",
          "state": {
            "_model_module": "@jupyter-widgets/base",
            "_model_module_version": "1.2.0",
            "_model_name": "LayoutModel",
            "_view_count": null,
            "_view_module": "@jupyter-widgets/base",
            "_view_module_version": "1.2.0",
            "_view_name": "LayoutView",
            "align_content": null,
            "align_items": null,
            "align_self": null,
            "border": null,
            "bottom": null,
            "display": null,
            "flex": null,
            "flex_flow": null,
            "grid_area": null,
            "grid_auto_columns": null,
            "grid_auto_flow": null,
            "grid_auto_rows": null,
            "grid_column": null,
            "grid_gap": null,
            "grid_row": null,
            "grid_template_areas": null,
            "grid_template_columns": null,
            "grid_template_rows": null,
            "height": null,
            "justify_content": null,
            "justify_items": null,
            "left": null,
            "margin": null,
            "max_height": null,
            "max_width": null,
            "min_height": null,
            "min_width": null,
            "object_fit": null,
            "object_position": null,
            "order": null,
            "overflow": null,
            "overflow_x": null,
            "overflow_y": null,
            "padding": null,
            "right": null,
            "top": null,
            "visibility": null,
            "width": null
          }
        },
        "5a144628d3cf401db129a5311eb5db5b": {
          "model_module": "@jupyter-widgets/controls",
          "model_name": "DescriptionStyleModel",
          "model_module_version": "1.5.0",
          "state": {
            "_model_module": "@jupyter-widgets/controls",
            "_model_module_version": "1.5.0",
            "_model_name": "DescriptionStyleModel",
            "_view_count": null,
            "_view_module": "@jupyter-widgets/base",
            "_view_module_version": "1.2.0",
            "_view_name": "StyleView",
            "description_width": ""
          }
        },
        "308709d871864b189d1df487630c5330": {
          "model_module": "@jupyter-widgets/base",
          "model_name": "LayoutModel",
          "model_module_version": "1.2.0",
          "state": {
            "_model_module": "@jupyter-widgets/base",
            "_model_module_version": "1.2.0",
            "_model_name": "LayoutModel",
            "_view_count": null,
            "_view_module": "@jupyter-widgets/base",
            "_view_module_version": "1.2.0",
            "_view_name": "LayoutView",
            "align_content": null,
            "align_items": null,
            "align_self": null,
            "border": null,
            "bottom": null,
            "display": null,
            "flex": null,
            "flex_flow": null,
            "grid_area": null,
            "grid_auto_columns": null,
            "grid_auto_flow": null,
            "grid_auto_rows": null,
            "grid_column": null,
            "grid_gap": null,
            "grid_row": null,
            "grid_template_areas": null,
            "grid_template_columns": null,
            "grid_template_rows": null,
            "height": null,
            "justify_content": null,
            "justify_items": null,
            "left": null,
            "margin": null,
            "max_height": null,
            "max_width": null,
            "min_height": null,
            "min_width": null,
            "object_fit": null,
            "object_position": null,
            "order": null,
            "overflow": null,
            "overflow_x": null,
            "overflow_y": null,
            "padding": null,
            "right": null,
            "top": null,
            "visibility": null,
            "width": null
          }
        },
        "4846763ca4c8494e998750b8d80c2920": {
          "model_module": "@jupyter-widgets/controls",
          "model_name": "ProgressStyleModel",
          "model_module_version": "1.5.0",
          "state": {
            "_model_module": "@jupyter-widgets/controls",
            "_model_module_version": "1.5.0",
            "_model_name": "ProgressStyleModel",
            "_view_count": null,
            "_view_module": "@jupyter-widgets/base",
            "_view_module_version": "1.2.0",
            "_view_name": "StyleView",
            "bar_color": null,
            "description_width": ""
          }
        },
        "5b11fc4a9b3a4dcf9bf819eb5558b8fa": {
          "model_module": "@jupyter-widgets/base",
          "model_name": "LayoutModel",
          "model_module_version": "1.2.0",
          "state": {
            "_model_module": "@jupyter-widgets/base",
            "_model_module_version": "1.2.0",
            "_model_name": "LayoutModel",
            "_view_count": null,
            "_view_module": "@jupyter-widgets/base",
            "_view_module_version": "1.2.0",
            "_view_name": "LayoutView",
            "align_content": null,
            "align_items": null,
            "align_self": null,
            "border": null,
            "bottom": null,
            "display": null,
            "flex": null,
            "flex_flow": null,
            "grid_area": null,
            "grid_auto_columns": null,
            "grid_auto_flow": null,
            "grid_auto_rows": null,
            "grid_column": null,
            "grid_gap": null,
            "grid_row": null,
            "grid_template_areas": null,
            "grid_template_columns": null,
            "grid_template_rows": null,
            "height": null,
            "justify_content": null,
            "justify_items": null,
            "left": null,
            "margin": null,
            "max_height": null,
            "max_width": null,
            "min_height": null,
            "min_width": null,
            "object_fit": null,
            "object_position": null,
            "order": null,
            "overflow": null,
            "overflow_x": null,
            "overflow_y": null,
            "padding": null,
            "right": null,
            "top": null,
            "visibility": null,
            "width": null
          }
        },
        "5488cee20bbc4075ae81ac79ba132882": {
          "model_module": "@jupyter-widgets/controls",
          "model_name": "DescriptionStyleModel",
          "model_module_version": "1.5.0",
          "state": {
            "_model_module": "@jupyter-widgets/controls",
            "_model_module_version": "1.5.0",
            "_model_name": "DescriptionStyleModel",
            "_view_count": null,
            "_view_module": "@jupyter-widgets/base",
            "_view_module_version": "1.2.0",
            "_view_name": "StyleView",
            "description_width": ""
          }
        }
      }
    }
  },
  "cells": [
    {
      "cell_type": "markdown",
      "source": [
        "# 0. Installations\n",
        "\n",
        "#### Install Anaconda: https://docs.anaconda.com/anaconda/install/index.html\n",
        "#### Install Scikit-Learn: https://scikit-learn.org/stable/install.html\n",
        "#### Install TensorFlow: https://docs.anaconda.com/anaconda/user-guide/tasks/tensorflow/\n",
        "#### Install Keras: https://anaconda.org/conda-forge/keras\n",
        "#### Install PyTorch: https://pytorch.org/get-started/locally/"
      ],
      "metadata": {
        "id": "XQNGt9Nh6q7Z"
      }
    },
    {
      "cell_type": "markdown",
      "source": [
        "# 1. Step functions"
      ],
      "metadata": {
        "id": "FKi_z2yB7hTe"
      }
    },
    {
      "cell_type": "code",
      "source": [
        "# The user can modify the values of the weight w\n",
        "# as well as bias_value_1 and bias_value_2 to observe\n",
        "# how this plots to different step functions\n",
        "\n",
        "import matplotlib.pyplot as plt\n",
        "import numpy\n",
        "weight_value = 1000\n",
        "\n",
        "# modify to change where the step function starts\n",
        "bias_value_1 = 5000\n",
        "\n",
        "# modify to change where the step function ends\n",
        "bias_value_2 = -5000\n",
        "\n",
        "# plot the\n",
        "plt.axis([-10, 10, -1, 10])\n",
        "\n",
        "print(\"The step function starts at {0} and ends at {1}\".format(-bias_value_1 / weight_value,-bias_value_2 / weight_value))\n",
        "\n",
        "inputs = numpy.arange(-10, 10, 0.01)\n",
        "outputs = list()\n",
        "\n",
        "# iterate over a range of inputs\n",
        "for x in inputs:\n",
        "    y1 = 1.0 / (1.0 + numpy.exp(-weight_value * x - bias_value_1))\n",
        "    y2 = 1.0 / (1.0 + numpy.exp(-weight_value * x - bias_value_2))\n",
        "\n",
        "    # modify to change the height of the step function\n",
        "    w = 7\n",
        "    \n",
        "    # network output\n",
        "    y = y1 * w - y2 * w\n",
        "    \n",
        "    outputs.append(y)\n",
        "    \n",
        "plt.plot(inputs, outputs, lw=2, color='black')\n",
        "plt.show()"
      ],
      "metadata": {
        "colab": {
          "base_uri": "https://localhost:8080/",
          "height": 321
        },
        "id": "9bTYPn-o6nz6",
        "outputId": "da9928d0-a87f-437f-fd9b-343ce0dee5bd"
      },
      "execution_count": 7,
      "outputs": [
        {
          "output_type": "stream",
          "name": "stdout",
          "text": [
            "The step function starts at -5.0 and ends at 5.0\n"
          ]
        },
        {
          "output_type": "stream",
          "name": "stderr",
          "text": [
            "/usr/local/lib/python3.7/dist-packages/ipykernel_launcher.py:25: RuntimeWarning: overflow encountered in exp\n",
            "/usr/local/lib/python3.7/dist-packages/ipykernel_launcher.py:26: RuntimeWarning: overflow encountered in exp\n"
          ]
        },
        {
          "output_type": "display_data",
          "data": {
            "text/plain": [
              "<Figure size 432x288 with 1 Axes>"
            ],
            "image/png": "[encoded data removed]"
          },
          "metadata": {
            "needs_background": "light"
          }
        }
      ]
    },
    {
      "cell_type": "markdown",
      "source": [
        "# 2. Introduction to Pytorch\n",
        "\n",
        "#### Install Pytorch\n",
        "#### https://pytorch.org/get-started/locally/\n",
        "#### conda install pytorch torchvision torchaudio cpuonly -c pytorch\n",
        "#### conda list"
      ],
      "metadata": {
        "id": "8kNFKzbF7lVB"
      }
    },
    {
      "cell_type": "markdown",
      "source": [
        "## 2.1 Load data, Define network and Train"
      ],
      "metadata": {
        "id": "hpDWUmJ17pK4"
      }
    },
    {
      "cell_type": "code",
      "source": [
        "import pandas as pd\n",
        "\n",
        "# Load iris dataset\n",
        "dataset = pd.read_csv('https://archive.ics.uci.edu/ml/machine-learning-databases/iris/iris.data',names=['sepal_length', 'sepal_width','petal_length', 'petal_width', 'species'])\n",
        "dataset['species'] = pd.Categorical(dataset['species']).codes\n",
        "dataset = dataset.sample(frac=1, random_state=1234)\n",
        "train_input = dataset.values[:120, :4]\n",
        "train_target = dataset.values[:120, 4]\n",
        "test_input = dataset.values[120:, :4]\n",
        "test_target = dataset.values[120:, 4]\n",
        "\n",
        "\n",
        "\n",
        "import torch\n",
        "\n",
        "torch.manual_seed(1234)\n",
        "\n",
        "hidden_units = 5\n",
        "\n",
        "net = torch.nn.Sequential(\n",
        "    torch.nn.Linear(4, hidden_units),\n",
        "    torch.nn.ReLU(),\n",
        "    torch.nn.Linear(hidden_units, 3)\n",
        ")\n",
        "\n",
        "# choose optimizer and loss function\n",
        "criterion = torch.nn.CrossEntropyLoss()\n",
        "optimizer = torch.optim.SGD(net.parameters(), lr=0.1,momentum=0.9)\n",
        "\n",
        "# train\n",
        "epochs = 50\n",
        "for epoch in range(epochs):\n",
        "    inputs = torch.autograd.Variable(torch.Tensor(train_input).float())\n",
        "    targets = torch.autograd.Variable(torch.Tensor(train_target).long())\n",
        "    optimizer.zero_grad()\n",
        "    out = net(inputs)\n",
        "    loss = criterion(out, targets)\n",
        "    loss.backward()\n",
        "    optimizer.step()\n",
        "\n",
        "    if epoch == 0 or (epoch + 1) % 10 == 0:\n",
        "        print('Epoch %d Loss: %.4f' % (epoch + 1, loss.item()))"
      ],
      "metadata": {
        "colab": {
          "base_uri": "https://localhost:8080/"
        },
        "id": "L_OlojKw7weR",
        "outputId": "9d2dc9bf-11d8-45ec-ebca-d50100b127db"
      },
      "execution_count": 8,
      "outputs": [
        {
          "output_type": "stream",
          "name": "stdout",
          "text": [
            "Epoch 1 Loss: 1.2181\n",
            "Epoch 10 Loss: 0.6745\n",
            "Epoch 20 Loss: 0.2447\n",
            "Epoch 30 Loss: 0.1397\n",
            "Epoch 40 Loss: 0.1001\n",
            "Epoch 50 Loss: 0.0855\n"
          ]
        }
      ]
    },
    {
      "cell_type": "markdown",
      "source": [
        "## 2.2 Evaluation AI model"
      ],
      "metadata": {
        "id": "EucQA0hw8B56"
      }
    },
    {
      "cell_type": "code",
      "source": [
        "import numpy as np\n",
        "\n",
        "inputs = torch.autograd.Variable(torch.Tensor(test_input).float())\n",
        "targets = torch.autograd.Variable(torch.Tensor(test_target).long())\n",
        "\n",
        "optimizer.zero_grad()\n",
        "out = net(inputs)\n",
        "\n",
        "_, predicted = torch.max(out.data, 1)\n",
        "\n",
        "error_count = test_target.size - np.count_nonzero((targets ==\n",
        "predicted).numpy())\n",
        "print('Errors: %d; Accuracy: %d%%' % (error_count, 100 *\n",
        "torch.sum(targets == predicted) / test_target.size))"
      ],
      "metadata": {
        "colab": {
          "base_uri": "https://localhost:8080/"
        },
        "id": "hNtAOLx-8EtM",
        "outputId": "45a58d80-c852-49da-b167-94d3a94f27f5"
      },
      "execution_count": 9,
      "outputs": [
        {
          "output_type": "stream",
          "name": "stdout",
          "text": [
            "Errors: 0; Accuracy: 100%\n"
          ]
        }
      ]
    },
    {
      "cell_type": "markdown",
      "source": [
        "# 3. Code example of a neutal network for the XOR problem (from scratch)"
      ],
      "metadata": {
        "id": "4iUetQYq8LW7"
      }
    },
    {
      "cell_type": "code",
      "source": [
        "import matplotlib.pyplot as plt\n",
        "import numpy\n",
        "from matplotlib.colors import ListedColormap\n",
        "\n",
        "\n",
        "def tanh(x):\n",
        "    return (1.0 - numpy.exp(-2 * x)) / (1.0 + numpy.exp(-2 * x))\n",
        "\n",
        "\n",
        "def tanh_derivative(x):\n",
        "    return (1 + tanh(x)) * (1 - tanh(x))\n",
        "\n",
        "\n",
        "class NeuralNetwork:\n",
        "    # net_arch consists of a list of integers, indicating\n",
        "    # the number of neurons in each layer\n",
        "    def __init__(self, net_arch):\n",
        "        self.activation_func = tanh\n",
        "        self.activation_derivative = tanh_derivative\n",
        "        self.layers = len(net_arch)\n",
        "        self.steps_per_epoch = 1000\n",
        "        self.net_arch = net_arch\n",
        "\n",
        "#         print('net_arch',net_arch)\n",
        "        \n",
        "        # initialize the weights with random values in the range (-1,1)\n",
        "        self.weights = []\n",
        "        for layer in range(len(net_arch) - 1):\n",
        "            w = 2 * numpy.random.rand(net_arch[layer] + 1, net_arch[layer + 1]) - 1\n",
        "            self.weights.append(w)\n",
        "\n",
        "    def fit(self, data, labels, learning_rate=0.1, epochs=10):\n",
        "        \"\"\"\n",
        "        :param data: data is the set of all possible pairs of booleans\n",
        "                     True or False indicated by the integers 1 or 0\n",
        "                     labels is the result of the logical operation 'xor'\n",
        "                     on each of those input pairs\n",
        "\n",
        "        :param labels: array of 0/1 for each datum\n",
        "        \"\"\"\n",
        "\n",
        "#         print('self.weights')\n",
        "#         print(self.weights)\n",
        "#         print('len(self.weights)',len(self.weights))\n",
        "#         print('')\n",
        "\n",
        "        # Add bias units to the input layer\n",
        "        ones = numpy.ones((1, data.shape[0]))\n",
        "        Z = numpy.concatenate((ones.T, data), axis=1)\n",
        "        training = epochs * self.steps_per_epoch\n",
        "        \n",
        "        for k in range(training):\n",
        "            if k % self.steps_per_epoch == 0:\n",
        "                print('epochs: {}'.format(k / self.steps_per_epoch))\n",
        "                for s in data:\n",
        "                    print(s, nn.predict(s))\n",
        "\n",
        "            sample = numpy.random.randint(data.shape[0])\n",
        "            y = [Z[sample]]\n",
        "#             print('***************')\n",
        "#             print(y)\n",
        "\n",
        "            for i in range(len(self.weights) - 1):\n",
        "                activation = numpy.dot(y[i], self.weights[i])\n",
        "                activation_f = self.activation_func(activation)\n",
        "                \n",
        "                # add the bias for the next layer\n",
        "                activation_f = numpy.concatenate((numpy.ones(1), numpy.array(activation_f)))\n",
        "                y.append(activation_f)\n",
        "\n",
        "#             print('**')\n",
        "#             print(y)\n",
        "#             print(len(y))\n",
        "\n",
        "            # last layer\n",
        "            activation = numpy.dot(y[-1], self.weights[-1])\n",
        "            activation_f = self.activation_func(activation)\n",
        "            y.append(activation_f)\n",
        "\n",
        "#             print('***')\n",
        "#             print(y)\n",
        "#             print(len(y))\n",
        "            \n",
        "            # error for the output layer\n",
        "            error = labels[sample] - y[-1]\n",
        "            delta_vec = [error * self.activation_derivative(y[-1])]\n",
        "\n",
        "            # we need to begin from the back from the next to last layer\n",
        "            for i in range(self.layers - 2, 0, -1):\n",
        "                error = delta_vec[-1].dot(self.weights[i][1:].T)\n",
        "                error = error * self.activation_derivative(y[i][1:])\n",
        "                delta_vec.append(error)\n",
        "\n",
        "            # reverse\n",
        "            # [level3(output)->level2(hidden)]  => [level2(hidden)->level3(output)]\n",
        "            delta_vec.reverse()\n",
        "\n",
        "            # backpropagation\n",
        "            # 1. Multiply its output delta and input activation \n",
        "            #    to get the gradient of the weight.\n",
        "            # 2. Subtract a ratio (percentage) of the gradient from the weight\n",
        "            for i in range(len(self.weights)):\n",
        "                layer = y[i].reshape(1, nn.net_arch[i] + 1)\n",
        "\n",
        "                delta = delta_vec[i].reshape(1, nn.net_arch[i + 1])\n",
        "                self.weights[i] += learning_rate * layer.T.dot(delta)\n",
        "\n",
        "    def predict(self, x):\n",
        "        val = numpy.concatenate((numpy.ones(1).T, numpy.array(x)))\n",
        "        for i in range(0, len(self.weights)):\n",
        "            val = self.activation_func(numpy.dot(val, self.weights[i]))\n",
        "            val = numpy.concatenate((numpy.ones(1).T, numpy.array(val)))\n",
        "\n",
        "        return val[1]\n",
        "\n",
        "    def plot_decision_regions(self, X, y, points=200):\n",
        "        markers = ('o', '^')\n",
        "        colors = ('red', 'blue')\n",
        "        cmap = ListedColormap(colors)\n",
        "\n",
        "        x1_min, x1_max = X[:, 0].min() - 1, X[:, 0].max() + 1\n",
        "        x2_min, x2_max = X[:, 1].min() - 1, X[:, 1].max() + 1\n",
        "\n",
        "        # To produce zoomed-out figures, you can replace the preceding 2 lines with:\n",
        "        # x1_min, x1_max = -10, 11\n",
        "        # x2_min, x2_max = -10, 11\n",
        "\n",
        "        resolution = max(x1_max - x1_min, x2_max - x2_min) / float(points)\n",
        "\n",
        "        xx1, xx2 = numpy.meshgrid(numpy.arange(x1_min,\n",
        "                                               x1_max,\n",
        "                                               resolution),\n",
        "                                  numpy.arange(x2_min, x2_max, resolution))\n",
        "        input = numpy.array([xx1.ravel(), xx2.ravel()]).T\n",
        "        Z = numpy.empty(0)\n",
        "        for i in range(input.shape[0]):\n",
        "            val = nn.predict(numpy.array(input[i]))\n",
        "            if val < 0.5:\n",
        "                val = 0\n",
        "            if val >= 0.5:\n",
        "                val = 1\n",
        "            Z = numpy.append(Z, val)\n",
        "\n",
        "        Z = Z.reshape(xx1.shape)\n",
        "\n",
        "        plt.pcolormesh(xx1, xx2, Z, cmap=cmap)\n",
        "        plt.xlim(xx1.min(), xx1.max())\n",
        "        plt.ylim(xx2.min(), xx2.max())\n",
        "        # plot all samples\n",
        "\n",
        "        classes = [\"False\", \"True\"]\n",
        "\n",
        "        for idx, cl in enumerate(numpy.unique(y)):\n",
        "            plt.scatter(x=X[y == cl, 0],\n",
        "                        y=X[y == cl, 1],\n",
        "                        alpha=1.0,\n",
        "                        c=colors[idx],\n",
        "                        edgecolors='black',\n",
        "                        marker=markers[idx],\n",
        "                        s=80,\n",
        "                        label=classes[idx])\n",
        "\n",
        "        plt.xlabel('x-axis')\n",
        "        plt.ylabel('y-axis')\n",
        "        plt.legend(loc='upper left')\n",
        "        plt.show()\n",
        "\n",
        "\n",
        "if __name__ == '__main__':\n",
        "    numpy.random.seed(0)\n",
        "\n",
        "    # Initialize the Neural Network in arbitrary layers\n",
        "    # e.g Initialize the Neural Network with 2 input, 2 hidden, and 1 output neurons\n",
        "    #nn = NeuralNetwork([2, 2, 1])\n",
        "    nn = NeuralNetwork([2, 3, 4, 5, 1])\n",
        "\n",
        "    X = numpy.array([[0, 0],\n",
        "                     [0, 1],\n",
        "                     [1, 0],\n",
        "                     [1, 1]])\n",
        "\n",
        "    y = numpy.array([0, 1, 1, 0])\n",
        "\n",
        "    nn.fit(X, y, epochs=10)\n",
        "\n",
        "    print(\"Final prediction\")\n",
        "    for s in X:\n",
        "        print(s, nn.predict(s))\n",
        "\n",
        "    nn.plot_decision_regions(X, y)"
      ],
      "metadata": {
        "colab": {
          "base_uri": "https://localhost:8080/",
          "height": 1000
        },
        "id": "cp_y52Fd8OBS",
        "outputId": "eba56a30-e86d-478a-8e8b-54be4698c7c6"
      },
      "execution_count": 10,
      "outputs": [
        {
          "output_type": "stream",
          "name": "stdout",
          "text": [
            "epochs: 0.0\n",
            "[0 0] -0.789809330553227\n",
            "[0 1] -0.5985826347686792\n",
            "[1 0] -0.7217115607681227\n",
            "[1 1] -0.553217555806774\n",
            "epochs: 1.0\n",
            "[0 0] 0.2217695144707291\n",
            "[0 1] 0.9770924499086757\n",
            "[1 0] 0.9764013010128652\n",
            "[1 1] 0.16107071131553452\n",
            "epochs: 2.0\n",
            "[0 0] -0.10837184739553091\n",
            "[0 1] 0.9897778383798748\n",
            "[1 0] 0.9878431866969571\n",
            "[1 1] 0.05766723921508235\n",
            "epochs: 3.0\n",
            "[0 0] -0.11104153187902152\n",
            "[0 1] 0.9943950387120195\n",
            "[1 0] 0.9935372495195232\n",
            "[1 1] 0.01950995307757293\n",
            "epochs: 4.0\n",
            "[0 0] 0.06392438762841787\n",
            "[0 1] 0.9967437669167742\n",
            "[1 0] 0.9964259973647991\n",
            "[1 1] 0.041940468617965604\n",
            "epochs: 5.0\n",
            "[0 0] -0.08135871441117389\n",
            "[0 1] 0.9972575872459903\n",
            "[1 0] 0.9970172545584643\n",
            "[1 1] 0.040052401244448366\n",
            "epochs: 6.0\n",
            "[0 0] -0.10060851081040989\n",
            "[0 1] 0.9977168739719956\n",
            "[1 0] 0.9974832241993286\n",
            "[1 1] -0.026554678991115604\n",
            "epochs: 7.0\n",
            "[0 0] 0.015044747253018343\n",
            "[0 1] 0.9982708198130805\n",
            "[1 0] 0.9981182215526846\n",
            "[1 1] -0.032445737055253755\n",
            "epochs: 8.0\n",
            "[0 0] 0.04914763118273799\n",
            "[0 1] 0.9986619178299292\n",
            "[1 0] 0.9984994665263718\n",
            "[1 1] 0.014441205283661971\n",
            "epochs: 9.0\n",
            "[0 0] -0.0270136442595609\n",
            "[0 1] 0.998846611291819\n",
            "[1 0] 0.9986902834505599\n",
            "[1 1] 0.041793446163433695\n",
            "Final prediction\n",
            "[0 0] 0.06626554108806906\n",
            "[0 1] 0.9990104992696052\n",
            "[1 0] 0.9988818117081422\n",
            "[1 1] -0.00686269137479188\n"
          ]
        },
        {
          "output_type": "display_data",
          "data": {
            "text/plain": [
              "<Figure size 432x288 with 1 Axes>"
            ],
            "image/png": "[encoded data removed]"
          },
          "metadata": {
            "needs_background": "light"
          }
        }
      ]
    },
    {
      "cell_type": "markdown",
      "source": [
        "# 4. More example of Neural Network (perceptron) from scratch"
      ],
      "metadata": {
        "id": "SCa4plAU8bzs"
      }
    },
    {
      "cell_type": "code",
      "source": [
        "from tqdm.notebook import tqdm\n",
        "import numpy as np\n",
        "\n",
        "def nonlin(x,deriv=False):\n",
        "    if(deriv==True):\n",
        "        return x*(1-x)\n",
        "    return 1/(1+np.exp(-x))\n",
        "    \n",
        "X = np.array([[0,0,1,1,0,0,1,1],\n",
        "            [0,1,1,1,0,0,1,1],\n",
        "            [1,0,1,0,0,0,1,1],\n",
        "            [0,1,1,1,0,0,1,1],\n",
        "            [1,0,1,0,0,0,1,1],\n",
        "            [1,1,1,0,0,0,1,1]])\n",
        "                \n",
        "y = np.array([[0],\n",
        "        [1],\n",
        "        [0],\n",
        "        [1],\n",
        "        [0],\n",
        "        [1]])\n",
        "\n",
        "np.random.seed(1)\n",
        "\n",
        "print(X.size, X.shape)\n",
        "\n",
        "alpha = 0.2\n",
        "# randomly initialize our weights with mean 0\n",
        "synapse_0 = 2*np.random.random((8,6)) - 1\n",
        "synapse_1 = 2*np.random.random((6,1)) - 1\n",
        "\n",
        "cnt = 0\n",
        "\n",
        "p_bar = tqdm(range(100000))\n",
        "for j in p_bar:\n",
        "\n",
        "    # Feed forward through layers 0, 1, and 2\n",
        "    layer_0 = X\n",
        "    layer_1 = nonlin(np.dot(layer_0,synapse_0))\n",
        "    layer_2 = nonlin(np.dot(layer_1,synapse_1))\n",
        "\n",
        "    # how much did we miss the target value?\n",
        "    layer_2_error = y - layer_2\n",
        "\n",
        "    #if (j% 10000) == 0:\n",
        "    if (j% 1000) == 0:\n",
        "        #p_bar.set_description('cnt {0}'.format(cnt))\n",
        "        #p_bar.set_description('y {0}'.format(y))\n",
        "        #p_bar.set_description('layer_2 {0}'.format(np.round(layer_2,4)))\n",
        "        p_bar.set_description(\"Error: {0}\".format(str(np.mean(np.abs(layer_2_error)))))\n",
        "        \n",
        "    # in what direction is the target value?\n",
        "    # were we really sure? if so, don't change too much.\n",
        "    layer_2_delta = layer_2_error*nonlin(layer_2,deriv=True)\n",
        "\n",
        "    # how much did each layer_1 value contribute to the layer_2 error (according to the weights)?\n",
        "    layer_1_error = layer_2_delta.dot(synapse_1.T)\n",
        "\n",
        "    # in what direction is the target k1?\n",
        "    # were we really sure? if so, don't change too much.\n",
        "    layer_1_delta = layer_1_error*nonlin(layer_1,deriv=True)\n",
        "\n",
        "    synapse_1 += alpha*layer_1.T.dot(layer_2_delta)\n",
        "    synapse_0 += alpha*layer_0.T.dot(layer_1_delta)\n",
        "\n",
        "    cnt += 1\n",
        "print('y\\n {0}\\n'.format(y))\n",
        "print('layer_2\\n {0}'.format(np.round(layer_2,4)))"
      ],
      "metadata": {
        "colab": {
          "base_uri": "https://localhost:8080/",
          "height": 327,
          "referenced_widgets": [
            "86cbdc815580486ead79775610ff62b6",
            "c50bb1f90d5a40d4b547e5907d513f56",
            "48e5d3afba924064bffca2d88f05a6c7",
            "5bacc634365d44a59d704fdf81dda095",
            "d1ed8a848f2646dca88554aa8cdc5d51",
            "f2b8a30efb2740adbd6dfaa89f26ca01",
            "32724a7a8e954571a8515e2a6b20ccab",
            "998a2bb20a2c453eba4de458e241c924",
            "96da23071a0b4741868c4c4a4113206d",
            "836905cb81e24d248b60786029a0a1f6",
            "9343632fa2f843be89ef2b978b70947e"
          ]
        },
        "id": "n8GAXgqQ8e7i",
        "outputId": "28046543-c23e-4bcd-cc84-c92938be9399"
      },
      "execution_count": 11,
      "outputs": [
        {
          "output_type": "stream",
          "name": "stdout",
          "text": [
            "48 (6, 8)\n"
          ]
        },
        {
          "output_type": "display_data",
          "data": {
            "text/plain": [
              "  0%|          | 0/100000 [00:00<?, ?it/s]"
            ],
            "application/vnd.jupyter.widget-view+json": {
              "version_major": 2,
              "version_minor": 0,
              "model_id": "86cbdc815580486ead79775610ff62b6"
            }
          },
          "metadata": {}
        },
        {
          "output_type": "stream",
          "name": "stdout",
          "text": [
            "y\n",
            " [[0]\n",
            " [1]\n",
            " [0]\n",
            " [1]\n",
            " [0]\n",
            " [1]]\n",
            "\n",
            "layer_2\n",
            " [[0.0027]\n",
            " [0.9977]\n",
            " [0.0019]\n",
            " [0.9977]\n",
            " [0.0019]\n",
            " [0.9971]]\n"
          ]
        }
      ]
    },
    {
      "cell_type": "markdown",
      "source": [
        "# One more example of perceptron (shallow network)"
      ],
      "metadata": {
        "id": "7cDYtsaB89vb"
      }
    },
    {
      "cell_type": "code",
      "source": [
        "from tqdm.notebook import tqdm\n",
        "import numpy as np\n",
        "\n",
        "class NeuralNet():\n",
        "    def __init__(self,alpha=0.2,epoch=10000):\n",
        "        np.random.seed(41)\n",
        "        self.bias = np.random.rand(1)\n",
        "        self.learning_rate = alpha\n",
        "        self.epoch = epoch\n",
        "    \n",
        "    def weights_gen(self, training_set_shape, training_set_dim):\n",
        "        self.weights = np.random.rand(training_set_shape, training_set_dim)\n",
        "\n",
        "    def sigmoid(self, x):\n",
        "        return 1 / (1 + np.exp(-x))\n",
        "\n",
        "    def sigmoid_der(self, x):\n",
        "        return self.sigmoid(x)*(1-self.sigmoid(x))\n",
        "\n",
        "    def training(self, training_set, labels):\n",
        "        labels = labels.reshape(training_set.shape[0],training_set.ndim - 1)\n",
        "        '''\n",
        "        print(training_set.ndim)\n",
        "        print(training_set.shape)\n",
        "        print(training_set)\n",
        "        print(labels.shape)\n",
        "        print(labels)\n",
        "        '''\n",
        "        self.weights_gen(training_set.shape[1], training_set.ndim - 1)\n",
        "\n",
        "        p_bar = tqdm(range(self.epoch))\n",
        "        for ep in p_bar:\n",
        "            inputs = training_set\n",
        "\n",
        "            # feedforward 1\n",
        "            x = np.dot(training_set, self.weights) + self.bias\n",
        "\n",
        "            #feedforward 2\n",
        "            prediction = self.sigmoid(x)\n",
        "\n",
        "            # backpropagation 1\n",
        "            error = prediction - labels\n",
        "            p_bar.set_description('prediction: {0}'.format(prediction))\n",
        "            #p_bar.set_description('error: {0}'.format(error))\n",
        "\n",
        "            # backpropagation 2\n",
        "            cost = error\n",
        "            derivative = self.sigmoid_der(prediction)\n",
        "\n",
        "            slope = cost * derivative\n",
        "\n",
        "            inputs = training_set.T\n",
        "            self.weights -= self.learning_rate * np.dot(inputs, slope)\n",
        "\n",
        "            for num in slope:\n",
        "                self.bias -= self.learning_rate * num\n",
        "\n",
        "    def predict(self, single_point):\n",
        "        return self.sigmoid(np.dot(single_point, self.weights) + self.bias)\n",
        "\n",
        "if __name__ == \"__main__\":\n",
        "    training_set = np.array([[1,1,1],[1,1,0],[0,0,1],[1,0,1],[1,0,0]])\n",
        "    labels = np.array([[1,1,0,1,0]])\n",
        "\n",
        "    net = NeuralNet(alpha=0.2,epoch=10000)\n",
        "    net.training(training_set, labels)\n",
        "\n",
        "    example = np.array([1,1,1])\n",
        "    result = net.predict(example)\n",
        "    \n",
        "    print('Input:',example)\n",
        "    print('Output:',result)\n",
        "\n",
        "    "
      ],
      "metadata": {
        "colab": {
          "base_uri": "https://localhost:8080/",
          "height": 84,
          "referenced_widgets": [
            "e0cb9b63a1c0404db5688c94783dd5e5",
            "ebc6b024083d425ebf0ffa6365faec8a",
            "831c882d96184be29774408dadf91783",
            "6ba315fa18684170b729d5459d454827",
            "5d02f1a448fb4e54a37bb529d8a95f6e",
            "d8241165bcd74e32b5a050cbaf6686ce",
            "8a58314ff35d434fb68af181950b54bf",
            "4fd53b35a55a42a482f7375c03e365d8",
            "e16c4358834a42b6aac89412f9403fb8",
            "0605a54730c84638b680876fe7f97c3a",
            "73bc60fcffd248908184951846950e50"
          ]
        },
        "id": "FBKv4uIG8_0_",
        "outputId": "65d110b1-0c5f-4314-9227-b57afe575fa1"
      },
      "execution_count": 12,
      "outputs": [
        {
          "output_type": "display_data",
          "data": {
            "text/plain": [
              "  0%|          | 0/10000 [00:00<?, ?it/s]"
            ],
            "application/vnd.jupyter.widget-view+json": {
              "version_major": 2,
              "version_minor": 0,
              "model_id": "e0cb9b63a1c0404db5688c94783dd5e5"
            }
          },
          "metadata": {}
        },
        {
          "output_type": "stream",
          "name": "stdout",
          "text": [
            "Input: [1 1 1]\n",
            "Output: [0.99999863]\n"
          ]
        }
      ]
    },
    {
      "cell_type": "markdown",
      "source": [
        "# Convolutional Neural Networks\n",
        "\n",
        "<img src=\"https://miro.medium.com/max/1400/1*uAeANQIOQPqWZnnuH-VEyw.jpeg\" />\n",
        "\n",
        "#### Reference:\n",
        "https://towardsdatascience.com/a-comprehensive-guide-to-convolutional-neural-networks-the-eli5-way-3bd2b1164a53"
      ],
      "metadata": {
        "id": "Jm8AyofQ9KiD"
      }
    },
    {
      "cell_type": "markdown",
      "source": [
        "# 5. Example of using Keras to classify handwritten digits"
      ],
      "metadata": {
        "id": "tcl6wUnR9RDO"
      }
    },
    {
      "cell_type": "code",
      "source": [
        "# Our first step will be to download the datasets using Keras: (It will download it right away)\n",
        "from keras.datasets import mnist\n",
        "\n",
        "# Then, we need to import a few classes to use a feed-forward network:\n",
        "from keras.models import Sequential\n",
        "from keras.layers.core import Dense, Activation\n",
        "from keras.utils import np_utils\n",
        "\n",
        "(X_train, Y_train), (X_test, Y_test) = mnist.load_data()\n",
        "X_train = X_train.reshape(60000, 784)\n",
        "X_test = X_test.reshape(10000, 784)"
      ],
      "metadata": {
        "colab": {
          "base_uri": "https://localhost:8080/"
        },
        "id": "C3pxeH2y9SE-",
        "outputId": "b8284b97-404c-4b42-ed38-71a91329c366"
      },
      "execution_count": 13,
      "outputs": [
        {
          "output_type": "stream",
          "name": "stdout",
          "text": [
            "Downloading data from https://storage.googleapis.com/tensorflow/tf-keras-datasets/mnist.npz\n",
            "11493376/11490434 [==============================] - 0s 0us/step\n",
            "11501568/11490434 [==============================] - 0s 0us/step\n"
          ]
        }
      ]
    },
    {
      "cell_type": "code",
      "source": [
        "# The labels indicate the value of the digit depicted in the images. We want to\n",
        "# convert this into a 10-entry one-hot encoded vector comprised of zeroes and just\n",
        "# one 1 in the entry corresponding to the digit. For example, 4 is mapped to [0, 0, 0,\n",
        "# 0, 1, 0, 0, 0, 0, 0]. Conversely, our network will have 10 output neurons:\n",
        "classes = 10\n",
        "Y_train = np_utils.to_categorical(Y_train, classes)\n",
        "Y_test = np_utils.to_categorical(Y_test, classes)\n",
        "\n",
        "# Before calling our main function, we need to set the size of the input layer (the\n",
        "# size of the MNIST images), the number of hidden neurons, the number of epochs\n",
        "# to train the network, and the mini batch size:\n",
        "input_size = 784\n",
        "batch_size = 100\n",
        "hidden_neurons = 100\n",
        "epochs = 10\n",
        "\n",
        "# We are ready to define our network. In this case, we'll use\n",
        "# the Sequential model, where each layer serves as an input to the next. In\n",
        "# Keras, Dense means fully-connected layer. We'll use a network with one hidden\n",
        "# layer, sigmoid activation, and softmax output:\n",
        "\"\"\"\n",
        "# Test accuracy: 0.9347000122070312\n",
        "model = Sequential([\n",
        "    Dense(hidden_neurons, input_dim=input_size),\n",
        "    Activation('sigmoid'),\n",
        "    Dense(classes),\n",
        "    Activation('softmax')\n",
        "])\n",
        "\"\"\"\n",
        "# Test accuracy: 0.9649999737739563\n",
        "model = Sequential([\n",
        "    Dense(hidden_neurons, input_dim=input_size),\n",
        "    Activation('relu'),\n",
        "    Dense(512),\n",
        "    Activation('relu'),\n",
        "    Dense(512),\n",
        "    Activation('sigmoid'),\n",
        "    Dense(classes),\n",
        "    Activation('softmax')\n",
        "])\n",
        "\n",
        "# Keras now provides a simple way to specify the cost function (the loss ) and its\n",
        "# optimization, in this case, cross-entropy and stochastic gradient descent. We'll\n",
        "# use the default values for learning rate, momentum, and so on:\n",
        "model.compile(loss='categorical_crossentropy',\n",
        "metrics=['accuracy'], optimizer='sgd')\n",
        "\n",
        "\n",
        "# help(model.fit)\n",
        "# We are ready to train the network. In Keras, we can do this in a simple way, with the fit method:\n",
        "model.fit(X_train, Y_train, batch_size=batch_size, epochs=epochs,verbose=1)\n",
        "\n",
        "# All that's left to do is to add code to evaluate the network accuracy on the test data:\n",
        "score = model.evaluate(X_test, Y_test, verbose=1) \n",
        "print('Test accuracy:', score[1])\n",
        "\n",
        "# And that's it. The test accuracy will be about 96%, which is not a great result, but\n",
        "# this example runs in less than 30 seconds on a CPU. We can make some simple\n",
        "# improvements, such as a larger number of hidden neurons, or a higher number of\n",
        "# epochs. We'll leave those experiments to you, to familiarize yourself with the code.\n"
      ],
      "metadata": {
        "colab": {
          "base_uri": "https://localhost:8080/"
        },
        "id": "GFz-i2nY9Zl9",
        "outputId": "419bbe92-eb13-4446-8d74-6e8b4afa348f"
      },
      "execution_count": 15,
      "outputs": [
        {
          "output_type": "stream",
          "name": "stdout",
          "text": [
            "Epoch 1/10\n",
            "600/600 [==============================] - 4s 5ms/step - loss: 0.5531 - accuracy: 0.8517\n",
            "Epoch 2/10\n",
            "600/600 [==============================] - 2s 4ms/step - loss: 0.2510 - accuracy: 0.9288\n",
            "Epoch 3/10\n",
            "600/600 [==============================] - 2s 4ms/step - loss: 0.1968 - accuracy: 0.9441\n",
            "Epoch 4/10\n",
            "600/600 [==============================] - 2s 4ms/step - loss: 0.1649 - accuracy: 0.9529\n",
            "Epoch 5/10\n",
            "600/600 [==============================] - 2s 4ms/step - loss: 0.1432 - accuracy: 0.9591\n",
            "Epoch 6/10\n",
            "600/600 [==============================] - 2s 4ms/step - loss: 0.1263 - accuracy: 0.9639\n",
            "Epoch 7/10\n",
            "600/600 [==============================] - 2s 4ms/step - loss: 0.1131 - accuracy: 0.9676\n",
            "Epoch 8/10\n",
            "600/600 [==============================] - 2s 4ms/step - loss: 0.1016 - accuracy: 0.9714\n",
            "Epoch 9/10\n",
            "600/600 [==============================] - 2s 4ms/step - loss: 0.0919 - accuracy: 0.9743\n",
            "Epoch 10/10\n",
            "600/600 [==============================] - 3s 4ms/step - loss: 0.0835 - accuracy: 0.9769\n",
            "313/313 [==============================] - 1s 4ms/step - loss: 0.1130 - accuracy: 0.9637\n",
            "Test accuracy: 0.963699996471405\n"
          ]
        }
      ]
    },
    {
      "cell_type": "code",
      "source": [
        "# To see what the network has learned, we can visualize the weights of the hidden\n",
        "# layer. The following code allows us to obtain them:\n",
        "weights = model.layers[0].get_weights()\n",
        "\n",
        "# To do this, we'll reshape the weights for each neuron back to a 28x28 two-dimensional array:\n",
        "import matplotlib.pyplot as plt\n",
        "import matplotlib.cm as cm\n",
        "import numpy\n",
        "\n",
        "fig = plt.figure()\n",
        "w = weights[0].T\n",
        "\n",
        "for neuron in range(hidden_neurons):\n",
        "    ax = fig.add_subplot(10, 10, neuron + 1)\n",
        "    ax.axis(\"off\")\n",
        "    ax.imshow(numpy.reshape(w[neuron], (28, 28)), cmap=cm.Greys_r)\n",
        "\n",
        "plt.savefig(\"neuron_images.png\", dpi=300)\n",
        "plt.show()"
      ],
      "metadata": {
        "colab": {
          "base_uri": "https://localhost:8080/",
          "height": 248
        },
        "id": "VhCSsnhS9oLR",
        "outputId": "ee990402-368a-42b6-d418-ef919710f126"
      },
      "execution_count": 16,
      "outputs": [
        {
          "output_type": "display_data",
          "data": {
            "text/plain": [
              "<Figure size 432x288 with 100 Axes>"
            ],
            "image/png": "[encoded data removed]"
          },
          "metadata": {
            "needs_background": "light"
          }
        }
      ]
    },
    {
      "cell_type": "markdown",
      "source": [
        "# 6. A coding example of convolution operation from scratch"
      ],
      "metadata": {
        "id": "VB_hTd6d92gA"
      }
    },
    {
      "cell_type": "code",
      "source": [
        "import numpy as np\n",
        "\n",
        "\n",
        "def conv(image, im_filter):\n",
        "    \"\"\"\n",
        "    :param image: grayscale image as a 2-dimensional numpy array\n",
        "    :param im_filter: 2-dimensional numpy array\n",
        "    \"\"\"\n",
        "\n",
        "    # input dimensions\n",
        "    height = image.shape[0]\n",
        "    width = image.shape[1]\n",
        "\n",
        "    # output image with reduced dimensions\n",
        "    im_c = np.zeros((height - len(im_filter) + 1, width - len(im_filter) + 1))\n",
        "\n",
        "    # iterate over all rows and columns\n",
        "    for row in range(len(im_c)):\n",
        "        for col in range(len(im_c[0])):\n",
        "            # apply the filter\n",
        "            for i in range(len(im_filter)):\n",
        "                for j in range(len(im_filter[0])):\n",
        "                    im_c[row, col] += image[row + i, col + j] * im_filter[i][j]\n",
        "\n",
        "    # fix out-of-bounds values\n",
        "    im_c[im_c > 255] = 255\n",
        "    im_c[im_c < 0] = 0\n",
        "\n",
        "    # plot images for comparison\n",
        "    import matplotlib.pyplot as plt\n",
        "    import matplotlib.cm as cm\n",
        "\n",
        "    plt.figure()\n",
        "    plt.imshow(image, cmap=cm.Greys_r)\n",
        "    plt.show()\n",
        "\n",
        "    plt.imshow(im_c, cmap=cm.Greys_r)\n",
        "    plt.show()\n",
        "\n",
        "\n",
        "import requests\n",
        "from PIL import Image\n",
        "from io import BytesIO\n",
        "\n",
        "# load the image\n",
        "url = \"https://media-cldnry.s-nbcnews.com/image/upload/t_fit-1240w,f_auto,q_auto:best/rockcms/2021-04/210428-michael-collins-mb-1737-b9ac18.jpg\"\n",
        "resp = requests.get(url)\n",
        "print(resp)\n",
        "\n",
        "image_rgb = np.asarray(Image.open(BytesIO(resp.content)).resize((100, 100)).convert(\"RGB\"))\n",
        "\n",
        "# convert to grayscale\n",
        "image_grayscale = np.mean(image_rgb, axis=2, dtype=np.uint)\n",
        "\n",
        "# blur filter\n",
        "blur = np.full([10, 10], 1. / 100)\n",
        "conv(image_grayscale, blur)\n",
        "\n",
        "# sobel filters\n",
        "sobel_x = [[-1, -2, -1],\n",
        "            [0, 0, 0],\n",
        "            [1, 2, 1]]\n",
        "conv(image_grayscale, sobel_x)\n",
        "\n",
        "sobel_y = [[-1, 0, 1],\n",
        "           [-2, 0, 2],\n",
        "           [-1, 0, 1]]\n",
        "conv(image_grayscale, sobel_y)"
      ],
      "metadata": {
        "colab": {
          "base_uri": "https://localhost:8080/",
          "height": 1000
        },
        "id": "Y2zszgO696j8",
        "outputId": "a0997244-55c8-45fd-c17d-6959797ae469"
      },
      "execution_count": 17,
      "outputs": [
        {
          "output_type": "stream",
          "name": "stdout",
          "text": [
            "<Response [200]>\n"
          ]
        },
        {
          "output_type": "display_data",
          "data": {
            "text/plain": [
              "<Figure size 432x288 with 1 Axes>"
            ],
            "image/png": "[encoded data removed]"
          },
          "metadata": {
            "needs_background": "light"
          }
        },
        {
          "output_type": "display_data",
          "data": {
            "text/plain": [
              "<Figure size 432x288 with 1 Axes>"
            ],
            "image/png": "[encoded data removed]"
          },
          "metadata": {
            "needs_background": "light"
          }
        },
        {
          "output_type": "display_data",
          "data": {
            "text/plain": [
              "<Figure size 432x288 with 1 Axes>"
            ],
            "image/png": "[encoded data removed]"
          },
          "metadata": {
            "needs_background": "light"
          }
        },
        {
          "output_type": "display_data",
          "data": {
            "text/plain": [
              "<Figure size 432x288 with 1 Axes>"
            ],
            "image/png": "[encoded data removed]"
          },
          "metadata": {
            "needs_background": "light"
          }
        },
        {
          "output_type": "display_data",
          "data": {
            "text/plain": [
              "<Figure size 432x288 with 1 Axes>"
            ],
            "image/png": "[encoded data removed]"
          },
          "metadata": {
            "needs_background": "light"
          }
        },
        {
          "output_type": "display_data",
          "data": {
            "text/plain": [
              "<Figure size 432x288 with 1 Axes>"
            ],
            "image/png": "[encoded data removed]"
          },
          "metadata": {
            "needs_background": "light"
          }
        }
      ]
    },
    {
      "cell_type": "markdown",
      "source": [
        "# 7. Classifying handwritten digits with a covnet using Keras"
      ],
      "metadata": {
        "id": "N5dIDj7l-CF5"
      }
    },
    {
      "cell_type": "code",
      "source": [
        "# for reproducibility\n",
        "from numpy.random import seed\n",
        "\n",
        "seed(1)\n",
        "\n",
        "# In Tensoflow2 there is no need to perform\n",
        "#from tensorflow import set_random_seed\n",
        "#set_random_seed(1)\n",
        "import tensorflow\n",
        "tensorflow.random.set_seed(1)\n",
        "\n",
        "from keras.datasets import mnist\n",
        "from keras.models import Sequential\n",
        "from keras.layers import Dense, Activation\n",
        "from keras.layers import Convolution2D, MaxPooling2D\n",
        "from keras.layers import Flatten\n",
        "\n",
        "from keras.utils import np_utils\n",
        "\n",
        "(X_train, Y_train), (X_test, Y_test) = mnist.load_data()\n",
        "\n",
        "X_train = X_train.reshape(60000, 28, 28, 1)\n",
        "X_test = X_test.reshape(10000, 28, 28, 1)\n",
        "\n",
        "Y_train = np_utils.to_categorical(Y_train, 10)\n",
        "Y_test = np_utils.to_categorical(Y_test, 10)\n",
        "\n",
        "model = Sequential([\n",
        "    Convolution2D(filters=32,\n",
        "                  kernel_size=(3, 3),\n",
        "                  input_shape=(28, 28, 1)),  # first conv layer\n",
        "    Activation('relu'),\n",
        "    Convolution2D(filters=32,\n",
        "                  kernel_size=(3, 3)),  # second conv layer\n",
        "    Activation('relu'),\n",
        "    MaxPooling2D(pool_size=(2, 2)),  # max pooling layer\n",
        "    Flatten(),  # flatten the output tensor\n",
        "    Dense(64),  # fully-connected hidden layer\n",
        "    Activation('relu'),\n",
        "    Dense(10),  # output layer\n",
        "    Activation('softmax')])\n",
        "\n",
        "print(model.summary())\n",
        "\n",
        "model.compile(loss='categorical_crossentropy', metrics=['accuracy'], optimizer='adadelta')\n",
        "\n",
        "model.fit(X_train, Y_train, batch_size=100, epochs=3, validation_split=0.1, verbose=1)\n",
        "\n",
        "score = model.evaluate(X_test, Y_test, verbose=1)\n",
        "\n",
        "print('\\nTest accuracy:', score[1])"
      ],
      "metadata": {
        "colab": {
          "base_uri": "https://localhost:8080/"
        },
        "id": "XguUBwrT-FwI",
        "outputId": "f662e277-3f38-46b6-9f27-d8b0b01e317a"
      },
      "execution_count": 18,
      "outputs": [
        {
          "output_type": "stream",
          "name": "stdout",
          "text": [
            "Model: \"sequential_2\"\n",
            "_________________________________________________________________\n",
            " Layer (type)                Output Shape              Param #   \n",
            "=================================================================\n",
            " conv2d_6 (Conv2D)           (None, 26, 26, 32)        320       \n",
            "                                                                 \n",
            " activation_10 (Activation)  (None, 26, 26, 32)        0         \n",
            "                                                                 \n",
            " conv2d_7 (Conv2D)           (None, 24, 24, 32)        9248      \n",
            "                                                                 \n",
            " activation_11 (Activation)  (None, 24, 24, 32)        0         \n",
            "                                                                 \n",
            " max_pooling2d_3 (MaxPooling  (None, 12, 12, 32)       0         \n",
            " 2D)                                                             \n",
            "                                                                 \n",
            " flatten_1 (Flatten)         (None, 4608)              0         \n",
            "                                                                 \n",
            " dense_5 (Dense)             (None, 64)                294976    \n",
            "                                                                 \n",
            " activation_12 (Activation)  (None, 64)                0         \n",
            "                                                                 \n",
            " dense_6 (Dense)             (None, 10)                650       \n",
            "                                                                 \n",
            " activation_13 (Activation)  (None, 10)                0         \n",
            "                                                                 \n",
            "=================================================================\n",
            "Total params: 305,194\n",
            "Trainable params: 305,194\n",
            "Non-trainable params: 0\n",
            "_________________________________________________________________\n",
            "None\n",
            "Epoch 1/3\n",
            "540/540 [==============================] - 6s 10ms/step - loss: 14.7992 - accuracy: 0.1768 - val_loss: 8.1934 - val_accuracy: 0.3067\n",
            "Epoch 2/3\n",
            "540/540 [==============================] - 5s 9ms/step - loss: 5.8537 - accuracy: 0.4196 - val_loss: 4.0711 - val_accuracy: 0.5197\n",
            "Epoch 3/3\n",
            "540/540 [==============================] - 5s 9ms/step - loss: 3.4205 - accuracy: 0.5710 - val_loss: 2.5454 - val_accuracy: 0.6443\n",
            "313/313 [==============================] - 2s 5ms/step - loss: 2.6218 - accuracy: 0.6306\n",
            "\n",
            "Test accuracy: 0.6305999755859375\n"
          ]
        }
      ]
    },
    {
      "cell_type": "markdown",
      "source": [
        "## Improving the performance of CNNS\n",
        "\n",
        "### Data pre-processing\n",
        "- Feature scaling:\n",
        "- Standard score:\n",
        "\n",
        "### Regularization\n",
        "To reduce overfitting\n",
        "- Weight decay\n",
        "- Dropout\n",
        "- Data augmentation\n",
        "    - Rotation\n",
        "    - Horizontal and vertical flip\n",
        "    - Zoom in/out\n",
        "    - Crop\n",
        "    - Skew\n",
        "    - Contrast and brightness adjustment"
      ],
      "metadata": {
        "id": "X4tNP_H8-Rwq"
      }
    },
    {
      "cell_type": "markdown",
      "source": [
        "## 8. A CNN example with Keras and CIFAR-10 (with data augmentation)\n",
        "\n",
        "#### About activation functions:\n",
        "#### https://machinelearningmastery.com/choose-an-activation-function-for-deep-learning/#:~:text=for%20Output%20Layers-,Activation%20Functions,a%20layer%20of%20the%20network.\n",
        "#### https://en.wikipedia.org/wiki/Activation_function"
      ],
      "metadata": {
        "id": "1i2XvtCitFig"
      }
    },
    {
      "cell_type": "code",
      "source": [
        "import keras\n",
        "from keras.datasets import cifar10\n",
        "from keras.layers import Conv2D, MaxPooling2D\n",
        "from keras.layers import Dense, Dropout, Activation, Flatten, BatchNormalization\n",
        "from keras.models import Sequential\n",
        "from keras.preprocessing.image import ImageDataGenerator\n",
        "\n",
        "batch_size = 50\n",
        "\n",
        "(X_train, Y_train), (X_test, Y_test) = cifar10.load_data()\n",
        "\n",
        "X_train = X_train.astype('float32')\n",
        "X_test = X_test.astype('float32')\n",
        "X_train /= 255\n",
        "X_test /= 255\n",
        "\n",
        "# Newer versions of keras==2.4.0 and tensorflow==2.3.0 would work as follows.\n",
        "# Import:\n",
        "# from keras.utils import np_utils\n",
        "# or\n",
        "# from keras import utils as np_utils\n",
        "# and then replace keras.utils.to_categorical with\n",
        "# keras.utils.np_utils.to_categorical\n",
        "\n",
        "#Y_train = keras.utils.to_categorical(Y_train, 10)\n",
        "#Y_test = keras.utils.to_categorical(Y_test, 10)\n",
        "from keras.utils import np_utils\n",
        "Y_train = keras.utils.np_utils.to_categorical(Y_train, 10)\n",
        "Y_test = keras.utils.np_utils.to_categorical(Y_test, 10)\n",
        "\n",
        "# Perform data augmentation\n",
        "data_generator = ImageDataGenerator(rotation_range=90,\n",
        "                                    width_shift_range=0.1,\n",
        "                                    height_shift_range=0.1,\n",
        "                                    featurewise_center=True,\n",
        "                                    featurewise_std_normalization=True,\n",
        "                                    horizontal_flip=True)\n",
        "\n",
        "data_generator.fit(X_train)\n",
        "\n",
        "# standardize the test set\n",
        "for i in range(len(X_test)):\n",
        "    X_test[i] = data_generator.standardize(X_test[i])\n",
        "\n",
        "model = Sequential()\n",
        "model.add(Conv2D(32, (3, 3), padding='same', input_shape=X_train.shape[1:]))\n",
        "model.add(Activation('elu'))\n",
        "model.add(BatchNormalization())\n",
        "model.add(Conv2D(32, (3, 3), padding='same'))\n",
        "model.add(Activation('elu'))\n",
        "model.add(BatchNormalization())\n",
        "model.add(MaxPooling2D(pool_size=(2, 2)))\n",
        "model.add(Dropout(0.2))\n",
        "\n",
        "model.add(Conv2D(64, (3, 3), padding='same'))\n",
        "model.add(Activation('elu'))\n",
        "model.add(BatchNormalization())\n",
        "model.add(Conv2D(64, (3, 3), padding='same'))\n",
        "model.add(Activation('elu'))\n",
        "model.add(BatchNormalization())\n",
        "model.add(MaxPooling2D(pool_size=(2, 2)))\n",
        "model.add(Dropout(0.2))\n",
        "\n",
        "model.add(Conv2D(128, (3, 3), padding='same'))\n",
        "model.add(Activation('elu'))\n",
        "model.add(BatchNormalization())\n",
        "model.add(Conv2D(128, (3, 3), padding='same'))\n",
        "model.add(Activation('elu'))\n",
        "model.add(BatchNormalization())\n",
        "model.add(MaxPooling2D(pool_size=(2, 2)))\n",
        "model.add(Dropout(0.5))\n",
        "\n",
        "model.add(Flatten())\n",
        "model.add(Dense(10, activation='softmax'))\n",
        "\n",
        "model.compile(loss='categorical_crossentropy', optimizer='adam', metrics=['accuracy'])\n",
        "\n",
        "model.fit_generator(\n",
        "    generator=data_generator.flow(x=X_train,\n",
        "                                  y=Y_train,\n",
        "                                  batch_size=batch_size),\n",
        "    steps_per_epoch=len(X_train) // batch_size,\n",
        "    epochs=5,\n",
        "    validation_data=(X_test, Y_test),\n",
        "    workers=4)"
      ],
      "metadata": {
        "colab": {
          "base_uri": "https://localhost:8080/"
        },
        "id": "zYWIM5BktGdL",
        "outputId": "b9f6e847-be55-472c-852d-9f10a129023f"
      },
      "execution_count": 1,
      "outputs": [
        {
          "output_type": "stream",
          "name": "stdout",
          "text": [
            "Downloading data from https://www.cs.toronto.edu/~kriz/cifar-10-python.tar.gz\n",
            "170500096/170498071 [==============================] - 2s 0us/step\n",
            "170508288/170498071 [==============================] - 2s 0us/step\n",
            "Epoch 1/5\n"
          ]
        },
        {
          "output_type": "stream",
          "name": "stderr",
          "text": [
            "/usr/local/lib/python3.7/dist-packages/ipykernel_launcher.py:85: UserWarning: `Model.fit_generator` is deprecated and will be removed in a future version. Please use `Model.fit`, which supports generators.\n"
          ]
        },
        {
          "output_type": "stream",
          "name": "stdout",
          "text": [
            "1000/1000 [==============================] - 71s 60ms/step - loss: 2.1770 - accuracy: 0.3242 - val_loss: 1.6193 - val_accuracy: 0.4283\n",
            "Epoch 2/5\n",
            "1000/1000 [==============================] - 59s 59ms/step - loss: 1.5986 - accuracy: 0.4406 - val_loss: 1.4479 - val_accuracy: 0.5089\n",
            "Epoch 3/5\n",
            "1000/1000 [==============================] - 59s 59ms/step - loss: 1.3855 - accuracy: 0.5064 - val_loss: 1.2619 - val_accuracy: 0.5588\n",
            "Epoch 4/5\n",
            "1000/1000 [==============================] - 59s 59ms/step - loss: 1.2532 - accuracy: 0.5544 - val_loss: 1.5413 - val_accuracy: 0.5208\n",
            "Epoch 5/5\n",
            "1000/1000 [==============================] - 60s 60ms/step - loss: 1.1654 - accuracy: 0.5881 - val_loss: 1.2523 - val_accuracy: 0.5755\n"
          ]
        },
        {
          "output_type": "execute_result",
          "data": {
            "text/plain": [
              "<keras.callbacks.History at 0x7ff222aad890>"
            ]
          },
          "metadata": {},
          "execution_count": 1
        }
      ]
    },
    {
      "cell_type": "code",
      "source": [
        "score = model.evaluate(X_test, Y_test, verbose=1)\n",
        "\n",
        "print('\\nTest accuracy:', score[1])"
      ],
      "metadata": {
        "colab": {
          "base_uri": "https://localhost:8080/"
        },
        "id": "gTEPH5nmtOke",
        "outputId": "35f056c2-4b53-491f-b553-c989e2761ae1"
      },
      "execution_count": 2,
      "outputs": [
        {
          "output_type": "stream",
          "name": "stdout",
          "text": [
            "313/313 [==============================] - 3s 10ms/step - loss: 1.2523 - accuracy: 0.5755\n",
            "\n",
            "Test accuracy: 0.5755000114440918\n"
          ]
        }
      ]
    },
    {
      "cell_type": "markdown",
      "source": [
        "Depending on the number of epochs, this model will produce the following results:\n",
        "47% accuracy in 3 epochs\n",
        "59% accuracy in 5 epochs\n",
        "80% accuracy in about 100 epochs— significantly better than before, but still not\n",
        "perfect"
      ],
      "metadata": {
        "id": "wFmUDrdnvamg"
      }
    },
    {
      "cell_type": "markdown",
      "source": [
        "# 9. Transfer learning example with PyTorch\n",
        "\n",
        "## What is Transfer learning?\n",
        "\n",
        "##### Transfer learning is the process of applying an existing trained ML model to a new, but related, problem. For example, we can take a network trained on ImageNet and repurpose it to classify grocery store items. Alternatively, we could use a driving simulator game to train a neural network to drive a simulated car, and then use the network to drive a real car (but don't try this at home!). Transfer learning is a general ML concept, applicable to all ML algorithms"
      ],
      "metadata": {
        "id": "2yLm2zo41RKX"
      }
    },
    {
      "cell_type": "markdown",
      "source": [
        "<img src=\"https://miro.medium.com/max/1400/1*uAeANQIOQPqWZnnuH-VEyw.jpeg\" />\n",
        "\n",
        "There are 2 options:\n",
        "1. Use the original part of the network as feature extractor and only train the new layer (Fully connected layers)\n",
        "2. Fine-tuning the whole network: It is possible to update all\n",
        "network weights, but we can also lock some of the weights in the first layers. The\n",
        "idea here is that the initial layers detect general features – not related to a specific\n",
        "task – and it makes sense to reuse them."
      ],
      "metadata": {
        "id": "MtUx8uMk1RWs"
      }
    },
    {
      "cell_type": "code",
      "source": [
        "import torch\n",
        "import torch.nn as nn\n",
        "import torch.optim as optim\n",
        "import torchvision\n",
        "from torchvision import models, transforms\n",
        "\n",
        "batch_size = 50\n",
        "\n",
        "# training data\n",
        "train_data_transform = transforms.Compose([\n",
        "    transforms.Resize(224),\n",
        "    transforms.RandomHorizontalFlip(),\n",
        "    transforms.RandomVerticalFlip(),\n",
        "    transforms.ToTensor(),\n",
        "    transforms.Normalize([0.485, 0.456, 0.406], [0.229, 0.224, 0.225])\n",
        "])\n",
        "\n",
        "train_set = torchvision.datasets.CIFAR10(root='./data',\n",
        "                                         train=True,\n",
        "                                         download=True,\n",
        "                                         transform=train_data_transform)\n",
        "\n",
        "train_loader = torch.utils.data.DataLoader(train_set,\n",
        "                                           batch_size=batch_size,\n",
        "                                           shuffle=True,\n",
        "                                           num_workers=2)\n",
        "\n",
        "# validation data\n",
        "val_data_transform = transforms.Compose([\n",
        "    transforms.Resize(224),\n",
        "    transforms.ToTensor(),\n",
        "    transforms.Normalize([0.485, 0.456, 0.406], [0.229, 0.224, 0.225])\n",
        "])\n",
        "\n",
        "val_set = torchvision.datasets.CIFAR10(root='./data',\n",
        "                                       train=False,\n",
        "                                       download=True,\n",
        "                                       transform=val_data_transform)\n",
        "\n",
        "val_order = torch.utils.data.DataLoader(val_set,\n",
        "                                        batch_size=batch_size,\n",
        "                                        shuffle=False,\n",
        "                                        num_workers=2)\n",
        "\n",
        "device = torch.device(\"cuda:0\" if torch.cuda.is_available() else \"cpu\")\n",
        "\n",
        "# Define the training of the model. Unlike Keras, in PyTorch we have to iterate\n",
        "# over the training data manually. This method iterates once over the whole\n",
        "# training set (one epoch) and applies the optimizer after each forward pass:\n",
        "def train_model(model, loss_function, optimizer, data_loader):\n",
        "    # set model to training mode\n",
        "    model.train()\n",
        "\n",
        "    current_loss = 0.0\n",
        "    current_acc = 0\n",
        "\n",
        "    # iterate over the training data\n",
        "    for i, (inputs, labels) in enumerate(data_loader):\n",
        "        # send the input/labels to the GPU\n",
        "        inputs = inputs.to(device)\n",
        "        labels = labels.to(device)\n",
        "\n",
        "        # zero the parameter gradients\n",
        "        optimizer.zero_grad()\n",
        "\n",
        "        with torch.set_grad_enabled(True):\n",
        "            # forward\n",
        "            outputs = model(inputs)\n",
        "            _, predictions = torch.max(outputs, 1)\n",
        "            loss = loss_function(outputs, labels)\n",
        "\n",
        "            # backward\n",
        "            loss.backward()\n",
        "            optimizer.step()\n",
        "\n",
        "        # statistics\n",
        "        current_loss += loss.item() * inputs.size(0)\n",
        "        current_acc += torch.sum(predictions == labels.data)\n",
        "\n",
        "    total_loss = current_loss / len(data_loader.dataset)\n",
        "    total_acc = current_acc.double() / len(data_loader.dataset)\n",
        "\n",
        "    print('Train Loss: {:.4f}; Accuracy: {:.4f}'.format(total_loss, total_acc))\n",
        "\n",
        "def test_model(model, loss_function, data_loader):\n",
        "    # set model in evaluation mode\n",
        "    model.eval()\n",
        "\n",
        "    current_loss = 0.0\n",
        "    current_acc = 0\n",
        "\n",
        "    # iterate over  the validation data\n",
        "    for i, (inputs, labels) in enumerate(data_loader):\n",
        "        # send the input/labels to the GPU\n",
        "        inputs = inputs.to(device)\n",
        "        labels = labels.to(device)\n",
        "\n",
        "        # forward\n",
        "        with torch.set_grad_enabled(False):\n",
        "            outputs = model(inputs)\n",
        "            _, predictions = torch.max(outputs, 1)\n",
        "            loss = loss_function(outputs, labels)\n",
        "\n",
        "        # statistics\n",
        "        current_loss += loss.item() * inputs.size(0)\n",
        "        current_acc += torch.sum(predictions == labels.data)\n",
        "\n",
        "    total_loss = current_loss / len(data_loader.dataset)\n",
        "    total_acc = current_acc.double() / len(data_loader.dataset)\n",
        "\n",
        "    print('Test Loss: {:.4f}; Accuracy: {:.4f}'.format(total_loss, total_acc))\n",
        "\n",
        "# Use the original part of the network as feature extractor and only train the new layer (Fully connected layers)\n",
        "def tl_feature_extractor(epochs=3):\n",
        "    # load the pre-trained model\n",
        "    model = torchvision.models.resnet18(pretrained=True)\n",
        "\n",
        "    # exclude existing parameters from backward pass\n",
        "    # for performance\n",
        "    for param in model.parameters():\n",
        "        param.requires_grad = False\n",
        "\n",
        "    # newly constructed layers have requires_grad=True by default\n",
        "    num_features = model.fc.in_features\n",
        "    model.fc = nn.Linear(num_features, 10)\n",
        "\n",
        "    # transfer to GPU (if available)\n",
        "    model = model.to(device)\n",
        "\n",
        "    loss_function = nn.CrossEntropyLoss()\n",
        "\n",
        "    # only parameters of the final layer are being optimized\n",
        "    optimizer = optim.Adam(model.fc.parameters())\n",
        "\n",
        "    # train\n",
        "    for epoch in range(epochs):\n",
        "        print('Epoch {}/{}'.format(epoch + 1, epochs))\n",
        "\n",
        "        train_model(model, loss_function, optimizer, train_loader)\n",
        "        test_model(model, loss_function, val_order)\n",
        "\n",
        "# Fine-tuning the whole network\n",
        "def tl_fine_tuning(epochs=3):\n",
        "    # load the pre-trained model\n",
        "    model = models.resnet18(pretrained=True)\n",
        "\n",
        "    # replace the last layer\n",
        "    num_features = model.fc.in_features\n",
        "    model.fc = nn.Linear(num_features, 10)\n",
        "\n",
        "    # transfer the model to the GPU\n",
        "    model = model.to(device)\n",
        "\n",
        "    # loss function\n",
        "    loss_function = nn.CrossEntropyLoss()\n",
        "\n",
        "    # We'll optimize all parameters\n",
        "    optimizer = optim.Adam(model.parameters())\n",
        "\n",
        "    # train\n",
        "    for epoch in range(epochs):\n",
        "        print('Epoch {}/{}'.format(epoch + 1, epochs))\n",
        "\n",
        "        train_model(model, loss_function, optimizer, train_loader)\n",
        "        test_model(model, loss_function, val_order)\n",
        "\n",
        "\n",
        "if __name__ == '__main__':\n",
        "    \n",
        "    tl_feature_extractor(epochs=5)"
      ],
      "metadata": {
        "colab": {
          "base_uri": "https://localhost:8080/",
          "height": 411,
          "referenced_widgets": [
            "0d0232e287024f038d6a17a2ce83e4b1",
            "f061d2ef55564ad89c515071a55d8cbf",
            "181d0e76ccd94a0bb51707e6696ddf0e",
            "4597642a5f14432b9482c31164b2e3c8",
            "0f08c436ea1a4e0080ebe1c67102be7a",
            "250e8681588f4ba0a45725d631e96cc3",
            "46774bc758aa4b67ae3bc74e6e9b2f9c",
            "6c4ee226859b4b27a4b4b787e57c088d",
            "c81e000ab06a4705b5c1922025924056",
            "e75f9ec261ab4d7daaa4fc2e454c5ba7",
            "d5e469edcd464a5db3cd9ed3d4791165",
            "622b6d2223994d8fb9aa05c355c8985e",
            "138216f3ffed4dd7a079e7959f9955cc",
            "ad3153b90ac1400b9aa8d168c13f867e",
            "b6f6f7994d2b4c238a0686176b46576c",
            "2d7b02b0845448938fb11ee366b1ae08",
            "4006565c1138447db2aaf112a61c74e1",
            "5a144628d3cf401db129a5311eb5db5b",
            "308709d871864b189d1df487630c5330",
            "4846763ca4c8494e998750b8d80c2920",
            "5b11fc4a9b3a4dcf9bf819eb5558b8fa",
            "5488cee20bbc4075ae81ac79ba132882"
          ]
        },
        "id": "KSZT5HaxwX7X",
        "outputId": "5054d49a-1633-458f-80d9-fd6ab306eda8"
      },
      "execution_count": 3,
      "outputs": [
        {
          "output_type": "stream",
          "name": "stdout",
          "text": [
            "Downloading https://www.cs.toronto.edu/~kriz/cifar-10-python.tar.gz to ./data/cifar-10-python.tar.gz\n"
          ]
        },
        {
          "output_type": "display_data",
          "data": {
            "text/plain": [
              "  0%|          | 0/170498071 [00:00<?, ?it/s]"
            ],
            "application/vnd.jupyter.widget-view+json": {
              "version_major": 2,
              "version_minor": 0,
              "model_id": "0d0232e287024f038d6a17a2ce83e4b1"
            }
          },
          "metadata": {}
        },
        {
          "output_type": "stream",
          "name": "stdout",
          "text": [
            "Extracting ./data/cifar-10-python.tar.gz to ./data\n",
            "Files already downloaded and verified\n"
          ]
        },
        {
          "output_type": "stream",
          "name": "stderr",
          "text": [
            "Downloading: \"https://download.pytorch.org/models/resnet18-f37072fd.pth\" to /root/.cache/torch/hub/checkpoints/resnet18-f37072fd.pth\n"
          ]
        },
        {
          "output_type": "display_data",
          "data": {
            "text/plain": [
              "  0%|          | 0.00/44.7M [00:00<?, ?B/s]"
            ],
            "application/vnd.jupyter.widget-view+json": {
              "version_major": 2,
              "version_minor": 0,
              "model_id": "622b6d2223994d8fb9aa05c355c8985e"
            }
          },
          "metadata": {}
        },
        {
          "output_type": "stream",
          "name": "stdout",
          "text": [
            "Epoch 1/5\n",
            "Train Loss: 1.0477; Accuracy: 0.6419\n",
            "Test Loss: 0.7361; Accuracy: 0.7498\n",
            "Epoch 2/5\n",
            "Train Loss: 0.8560; Accuracy: 0.7024\n",
            "Test Loss: 0.7177; Accuracy: 0.7496\n",
            "Epoch 3/5\n",
            "Train Loss: 0.8316; Accuracy: 0.7081\n",
            "Test Loss: 0.6906; Accuracy: 0.7647\n",
            "Epoch 4/5\n",
            "Train Loss: 0.8148; Accuracy: 0.7131\n",
            "Test Loss: 0.6987; Accuracy: 0.7598\n",
            "Epoch 5/5\n",
            "Train Loss: 0.8092; Accuracy: 0.7156\n",
            "Test Loss: 0.6633; Accuracy: 0.7730\n"
          ]
        }
      ]
    },
    {
      "cell_type": "code",
      "source": [
        "tl_fine_tuning(epochs=2)"
      ],
      "metadata": {
        "colab": {
          "base_uri": "https://localhost:8080/"
        },
        "id": "vwD_7s_d1GT8",
        "outputId": "17105561-831d-43bb-9b8b-4883ef063514"
      },
      "execution_count": 4,
      "outputs": [
        {
          "output_type": "stream",
          "name": "stdout",
          "text": [
            "Epoch 1/2\n",
            "Train Loss: 0.8105; Accuracy: 0.7146\n",
            "Test Loss: 0.7027; Accuracy: 0.7612\n",
            "Epoch 2/2\n",
            "Train Loss: 0.5261; Accuracy: 0.8183\n",
            "Test Loss: 0.5418; Accuracy: 0.8126\n"
          ]
        }
      ]
    }
  ]
}